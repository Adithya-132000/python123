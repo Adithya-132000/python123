{
  "nbformat": 4,
  "nbformat_minor": 0,
  "metadata": {
    "colab": {
      "provenance": []
    },
    "kernelspec": {
      "name": "python3",
      "display_name": "Python 3"
    },
    "language_info": {
      "name": "python"
    }
  },
  "cells": [
    {
      "cell_type": "markdown",
      "source": [
        "1.write a program to find sum of all elements in a list of integers."
      ],
      "metadata": {
        "id": "nLt59KnlqXAD"
      }
    },
    {
      "cell_type": "code",
      "execution_count": 1,
      "metadata": {
        "colab": {
          "base_uri": "https://localhost:8080/"
        },
        "id": "h_THsNyKqS_E",
        "outputId": "0364e9df-05d7-4658-e6eb-eb62d315cbd3"
      },
      "outputs": [
        {
          "output_type": "stream",
          "name": "stdout",
          "text": [
            "55\n"
          ]
        }
      ],
      "source": [
        "list1=[1,2,3,4,5,6,7,8,9,10]\n",
        "print(sum(list1))"
      ]
    },
    {
      "cell_type": "markdown",
      "source": [
        "2.Input a sentence as astring.\n",
        "  a.print its length\n",
        "  b.print the 1st half of string"
      ],
      "metadata": {
        "id": "RaObk4RnqVHh"
      }
    },
    {
      "cell_type": "code",
      "source": [
        "strng=\"I am Adithya\"\n",
        "print(len(strng))\n",
        "print(strng[0:7])"
      ],
      "metadata": {
        "colab": {
          "base_uri": "https://localhost:8080/"
        },
        "id": "5hxciteIrj_G",
        "outputId": "67197e56-c34a-4059-f286-d4d5406e730e"
      },
      "execution_count": 3,
      "outputs": [
        {
          "output_type": "stream",
          "name": "stdout",
          "text": [
            "12\n",
            "I am Ad\n"
          ]
        }
      ]
    },
    {
      "cell_type": "markdown",
      "source": [
        "3.write a program to enter a tuple of integers as(78,45,32,19,82,77,40,39),change the third value in the tuple to 100."
      ],
      "metadata": {
        "id": "dKy1q-wutmpE"
      }
    },
    {
      "cell_type": "code",
      "source": [
        "t1=(78,45,32,19,82,77,40,39)\n",
        "t1[3]=100\n",
        "#A tuple is a collection which is orderd and unchangeble"
      ],
      "metadata": {
        "colab": {
          "base_uri": "https://localhost:8080/",
          "height": 192
        },
        "id": "v3hYCPnEtleB",
        "outputId": "af95971b-75fa-4498-eef2-f1c64e2af347"
      },
      "execution_count": 4,
      "outputs": [
        {
          "output_type": "error",
          "ename": "TypeError",
          "evalue": "ignored",
          "traceback": [
            "\u001b[0;31m---------------------------------------------------------------------------\u001b[0m",
            "\u001b[0;31mTypeError\u001b[0m                                 Traceback (most recent call last)",
            "\u001b[0;32m<ipython-input-4-577ed963653f>\u001b[0m in \u001b[0;36m<cell line: 2>\u001b[0;34m()\u001b[0m\n\u001b[1;32m      1\u001b[0m \u001b[0mt1\u001b[0m\u001b[0;34m=\u001b[0m\u001b[0;34m(\u001b[0m\u001b[0;36m78\u001b[0m\u001b[0;34m,\u001b[0m\u001b[0;36m45\u001b[0m\u001b[0;34m,\u001b[0m\u001b[0;36m32\u001b[0m\u001b[0;34m,\u001b[0m\u001b[0;36m19\u001b[0m\u001b[0;34m,\u001b[0m\u001b[0;36m82\u001b[0m\u001b[0;34m,\u001b[0m\u001b[0;36m77\u001b[0m\u001b[0;34m,\u001b[0m\u001b[0;36m40\u001b[0m\u001b[0;34m,\u001b[0m\u001b[0;36m39\u001b[0m\u001b[0;34m)\u001b[0m\u001b[0;34m\u001b[0m\u001b[0;34m\u001b[0m\u001b[0m\n\u001b[0;32m----> 2\u001b[0;31m \u001b[0mt1\u001b[0m\u001b[0;34m[\u001b[0m\u001b[0;36m3\u001b[0m\u001b[0;34m]\u001b[0m\u001b[0;34m=\u001b[0m\u001b[0;36m100\u001b[0m\u001b[0;34m\u001b[0m\u001b[0;34m\u001b[0m\u001b[0m\n\u001b[0m",
            "\u001b[0;31mTypeError\u001b[0m: 'tuple' object does not support item assignment"
          ]
        }
      ]
    },
    {
      "cell_type": "markdown",
      "source": [
        "4.consider a list listA=[19,32,10,55,31,32,94,29,10,65,77,40,40],\n",
        "a.Delete the 1st occurance of 32"
      ],
      "metadata": {
        "id": "VTOClKVKv__N"
      }
    },
    {
      "cell_type": "code",
      "source": [
        "listA=[19,32,10,55,31,32,94,29,10,65,77,40,40]\n",
        "listA.remove(32)"
      ],
      "metadata": {
        "id": "4cA8px3xv-tN"
      },
      "execution_count": 5,
      "outputs": []
    },
    {
      "cell_type": "code",
      "source": [
        "listA"
      ],
      "metadata": {
        "colab": {
          "base_uri": "https://localhost:8080/"
        },
        "id": "voKVqPjDxJCa",
        "outputId": "d34b5261-9036-4669-ebdf-57ec933ce02e"
      },
      "execution_count": 6,
      "outputs": [
        {
          "output_type": "execute_result",
          "data": {
            "text/plain": [
              "[19, 10, 55, 31, 32, 94, 29, 10, 65, 77, 40, 40]"
            ]
          },
          "metadata": {},
          "execution_count": 6
        }
      ]
    },
    {
      "cell_type": "markdown",
      "source": [
        "b.Delete the all occurence of 40"
      ],
      "metadata": {
        "id": "C3fVC_DixNbc"
      }
    },
    {
      "cell_type": "code",
      "source": [
        "listA=[19,32,10,55,31,32,94,29,10,65,77,40,40]\n",
        "listA.pop()"
      ],
      "metadata": {
        "colab": {
          "base_uri": "https://localhost:8080/"
        },
        "id": "JQkpMlaVxlRh",
        "outputId": "a41baeb3-ec7b-4420-85dc-b304c93fcc98"
      },
      "execution_count": 7,
      "outputs": [
        {
          "output_type": "execute_result",
          "data": {
            "text/plain": [
              "40"
            ]
          },
          "metadata": {},
          "execution_count": 7
        }
      ]
    },
    {
      "cell_type": "code",
      "source": [
        "listA.pop()"
      ],
      "metadata": {
        "colab": {
          "base_uri": "https://localhost:8080/"
        },
        "id": "JGnZoPADyggC",
        "outputId": "a6fdc05d-1141-4dcb-8c77-8efd1023056b"
      },
      "execution_count": 8,
      "outputs": [
        {
          "output_type": "execute_result",
          "data": {
            "text/plain": [
              "40"
            ]
          },
          "metadata": {},
          "execution_count": 8
        }
      ]
    },
    {
      "cell_type": "code",
      "source": [
        "listA"
      ],
      "metadata": {
        "colab": {
          "base_uri": "https://localhost:8080/"
        },
        "id": "5q3CE9GLyl8h",
        "outputId": "1ea72b4b-ce15-42cc-fa1d-723bdd9831d6"
      },
      "execution_count": 9,
      "outputs": [
        {
          "output_type": "execute_result",
          "data": {
            "text/plain": [
              "[19, 32, 10, 55, 31, 32, 94, 29, 10, 65, 77]"
            ]
          },
          "metadata": {},
          "execution_count": 9
        }
      ]
    },
    {
      "cell_type": "markdown",
      "source": [
        "c.Delete the value at index=5"
      ],
      "metadata": {
        "id": "EM68Kpz3yowe"
      }
    },
    {
      "cell_type": "code",
      "source": [
        "listA=[19, 32, 10, 55, 31, 32, 94, 29, 10, 65, 77]\n",
        "del listA[5]"
      ],
      "metadata": {
        "id": "ecVXpkhry4ZC"
      },
      "execution_count": 20,
      "outputs": []
    },
    {
      "cell_type": "code",
      "source": [
        "listA"
      ],
      "metadata": {
        "colab": {
          "base_uri": "https://localhost:8080/"
        },
        "id": "vVtkX5NT0e6Z",
        "outputId": "0e130832-df12-4108-e467-3ae644beb1d0"
      },
      "execution_count": 21,
      "outputs": [
        {
          "output_type": "execute_result",
          "data": {
            "text/plain": [
              "[19, 32, 10, 55, 32, 94, 29, 10, 65, 77]"
            ]
          },
          "metadata": {},
          "execution_count": 21
        }
      ]
    },
    {
      "cell_type": "markdown",
      "source": [
        "d.modify the value at index=9 as 300"
      ],
      "metadata": {
        "id": "glYbGlL71Rpv"
      }
    },
    {
      "cell_type": "code",
      "source": [
        "listA[9]=300"
      ],
      "metadata": {
        "id": "5Ke4xkMF1i13"
      },
      "execution_count": 22,
      "outputs": []
    },
    {
      "cell_type": "code",
      "source": [
        "listA"
      ],
      "metadata": {
        "colab": {
          "base_uri": "https://localhost:8080/"
        },
        "id": "wYU14cae1rgz",
        "outputId": "9d9cda7a-1555-49ba-c928-f2506c5d4c39"
      },
      "execution_count": 23,
      "outputs": [
        {
          "output_type": "execute_result",
          "data": {
            "text/plain": [
              "[19, 32, 10, 55, 32, 94, 29, 10, 65, 300]"
            ]
          },
          "metadata": {},
          "execution_count": 23
        }
      ]
    },
    {
      "cell_type": "markdown",
      "source": [
        "e.Add 200 at index=2"
      ],
      "metadata": {
        "id": "3DZitY8h2CB1"
      }
    },
    {
      "cell_type": "code",
      "source": [
        "listA.insert(2,200)\n",
        "listA"
      ],
      "metadata": {
        "colab": {
          "base_uri": "https://localhost:8080/"
        },
        "id": "AHN7cxl32PI8",
        "outputId": "4ae27736-7007-4a7c-ca11-780d264a23c7"
      },
      "execution_count": 27,
      "outputs": [
        {
          "output_type": "execute_result",
          "data": {
            "text/plain": [
              "[19, 32, 200, 200, 10, 55, 32, 94, 29, 10, 65, 300]"
            ]
          },
          "metadata": {},
          "execution_count": 27
        }
      ]
    },
    {
      "cell_type": "code",
      "source": [
        "listA=[19, 32, 10, 55, 32, 94, 29, 10, 65, 300]\n",
        "listA[2]+=200\n",
        "listA"
      ],
      "metadata": {
        "colab": {
          "base_uri": "https://localhost:8080/"
        },
        "id": "u1zt8y_C20FV",
        "outputId": "80d35dc2-79c6-44cc-b8fa-caf502fcdd98"
      },
      "execution_count": 30,
      "outputs": [
        {
          "output_type": "execute_result",
          "data": {
            "text/plain": [
              "[19, 32, 210, 55, 32, 94, 29, 10, 65, 300]"
            ]
          },
          "metadata": {},
          "execution_count": 30
        }
      ]
    },
    {
      "cell_type": "markdown",
      "source": [
        "f.print the final list with its length, maximum value and sum of all elements."
      ],
      "metadata": {
        "id": "y3v25I9N4INW"
      }
    },
    {
      "cell_type": "code",
      "source": [
        "print(len(listA))\n",
        "print(sum(listA))"
      ],
      "metadata": {
        "colab": {
          "base_uri": "https://localhost:8080/"
        },
        "id": "65LFoF-44Hof",
        "outputId": "630a1bba-74af-4441-ffdc-db09d2542d9a"
      },
      "execution_count": 33,
      "outputs": [
        {
          "output_type": "stream",
          "name": "stdout",
          "text": [
            "10\n",
            "846\n"
          ]
        }
      ]
    },
    {
      "cell_type": "code",
      "source": [
        "print(max(listA))"
      ],
      "metadata": {
        "colab": {
          "base_uri": "https://localhost:8080/"
        },
        "id": "U5J5NmJF4qW6",
        "outputId": "c26c0d81-d11c-4745-ff5c-c6a4a161f95d"
      },
      "execution_count": 34,
      "outputs": [
        {
          "output_type": "stream",
          "name": "stdout",
          "text": [
            "300\n"
          ]
        }
      ]
    },
    {
      "cell_type": "markdown",
      "source": [
        "5.consider a string \"The  day has been long\"\n",
        "a.Delete the value at index=4"
      ],
      "metadata": {
        "id": "KpH8fIQj5I19"
      }
    },
    {
      "cell_type": "code",
      "source": [
        "strng=\"The day has been long\""
      ],
      "metadata": {
        "id": "lMJAZlI75IQI"
      },
      "execution_count": 1,
      "outputs": []
    },
    {
      "cell_type": "code",
      "source": [
        "print(strng[0:5]+strng[6:17])"
      ],
      "metadata": {
        "colab": {
          "base_uri": "https://localhost:8080/"
        },
        "id": "JCVP_BngJ2G-",
        "outputId": "cae1f1f8-ab96-4389-c6c1-1c39302b97b7"
      },
      "execution_count": 13,
      "outputs": [
        {
          "output_type": "stream",
          "name": "stdout",
          "text": [
            "The dy has been \n"
          ]
        }
      ]
    },
    {
      "cell_type": "markdown",
      "source": [
        "b.print the string 4 times in a single line with space between each repetition."
      ],
      "metadata": {
        "id": "vkucrhgjJyZJ"
      }
    },
    {
      "cell_type": "code",
      "source": [
        "print(\"The day has been long  \"   *4)"
      ],
      "metadata": {
        "colab": {
          "base_uri": "https://localhost:8080/"
        },
        "id": "MXi_NIAIPvxp",
        "outputId": "8b195c56-f592-43fb-f3fc-c0808405942a"
      },
      "execution_count": 25,
      "outputs": [
        {
          "output_type": "stream",
          "name": "stdout",
          "text": [
            "The day has been long  The day has been long  The day has been long  The day has been long  \n"
          ]
        }
      ]
    },
    {
      "cell_type": "markdown",
      "source": [
        "c.print the string 3 times in a new line each time."
      ],
      "metadata": {
        "id": "kX_64hxMQaIC"
      }
    },
    {
      "cell_type": "code",
      "source": [
        "print(\"The day has been long \\n\" *3)"
      ],
      "metadata": {
        "colab": {
          "base_uri": "https://localhost:8080/"
        },
        "id": "--lt_RE3QZYc",
        "outputId": "5630273d-87f4-49e7-93ec-bef6c2b0ec4e"
      },
      "execution_count": 26,
      "outputs": [
        {
          "output_type": "stream",
          "name": "stdout",
          "text": [
            "The day has been long \n",
            "The day has been long \n",
            "The day has been long \n",
            "\n"
          ]
        }
      ]
    },
    {
      "cell_type": "markdown",
      "source": [
        "d.modify the string from index 7 as 'A'"
      ],
      "metadata": {
        "id": "oUuDRaLJTAkL"
      }
    },
    {
      "cell_type": "code",
      "source": [
        "strng."
      ],
      "metadata": {
        "colab": {
          "base_uri": "https://localhost:8080/",
          "height": 175
        },
        "id": "KRJ_lkUKS2HU",
        "outputId": "770e89b2-db2f-4f59-8449-ad579e3abb6b"
      },
      "execution_count": 30,
      "outputs": [
        {
          "output_type": "error",
          "ename": "NameError",
          "evalue": "ignored",
          "traceback": [
            "\u001b[0;31m---------------------------------------------------------------------------\u001b[0m",
            "\u001b[0;31mNameError\u001b[0m                                 Traceback (most recent call last)",
            "\u001b[0;32m<ipython-input-30-fa616fdf06a2>\u001b[0m in \u001b[0;36m<cell line: 1>\u001b[0;34m()\u001b[0m\n\u001b[0;32m----> 1\u001b[0;31m \u001b[0mstrng\u001b[0m\u001b[0;34m.\u001b[0m\u001b[0mtranslate\u001b[0m\u001b[0;34m(\u001b[0m\u001b[0;36m7\u001b[0m\u001b[0;34m,\u001b[0m\u001b[0mA\u001b[0m\u001b[0;34m)\u001b[0m\u001b[0;34m\u001b[0m\u001b[0;34m\u001b[0m\u001b[0m\n\u001b[0m",
            "\u001b[0;31mNameError\u001b[0m: name 'A' is not defined"
          ]
        }
      ]
    },
    {
      "cell_type": "markdown",
      "source": [
        "e.print the string from index 4 to 15"
      ],
      "metadata": {
        "id": "feYL36C9eloD"
      }
    },
    {
      "cell_type": "code",
      "source": [
        "print(strng[4:15])"
      ],
      "metadata": {
        "colab": {
          "base_uri": "https://localhost:8080/"
        },
        "id": "qYhgHk7UekzK",
        "outputId": "91cd0a12-93ec-4933-e52a-ffd60ebeaa6b"
      },
      "execution_count": 31,
      "outputs": [
        {
          "output_type": "stream",
          "name": "stdout",
          "text": [
            "day has bee\n"
          ]
        }
      ]
    },
    {
      "cell_type": "code",
      "source": [
        "len(strng)"
      ],
      "metadata": {
        "colab": {
          "base_uri": "https://localhost:8080/"
        },
        "id": "med1euIjfMso",
        "outputId": "11cc2a40-58d2-4d3d-893c-b838cec85236"
      },
      "execution_count": 32,
      "outputs": [
        {
          "output_type": "execute_result",
          "data": {
            "text/plain": [
              "21"
            ]
          },
          "metadata": {},
          "execution_count": 32
        }
      ]
    }
  ]
}