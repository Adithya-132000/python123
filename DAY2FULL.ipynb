{
  "nbformat": 4,
  "nbformat_minor": 0,
  "metadata": {
    "colab": {
      "provenance": []
    },
    "kernelspec": {
      "name": "python3",
      "display_name": "Python 3"
    },
    "language_info": {
      "name": "python"
    }
  },
  "cells": [
    {
      "cell_type": "code",
      "execution_count": null,
      "metadata": {
        "colab": {
          "base_uri": "https://localhost:8080/"
        },
        "id": "aU6Wdip9Ixvd",
        "outputId": "fbe7d559-b99e-40ff-f16c-b9580c5d1c5c"
      },
      "outputs": [
        {
          "output_type": "stream",
          "name": "stdout",
          "text": [
            "enter first number8\n",
            "enter the second number7\n",
            "sum is 15\n"
          ]
        }
      ],
      "source": [
        "num1=int(input(\"enter first number\"))\n",
        "num2=int(input(\"enter the second number\"))\n",
        "sum=num1+num2\n",
        "print(\"sum is\",sum)"
      ]
    },
    {
      "cell_type": "code",
      "source": [
        "\n",
        "num1=int(input(\"enter first number\"))\n",
        "num2=int(input(\"enter the second number\"))\n",
        "diff=num1-num2\n",
        "print(\"difference is\",diff)"
      ],
      "metadata": {
        "colab": {
          "base_uri": "https://localhost:8080/"
        },
        "id": "skRqwbbzWq1F",
        "outputId": "8c46ca79-a967-453b-c2c5-e85b89e70718"
      },
      "execution_count": null,
      "outputs": [
        {
          "output_type": "stream",
          "name": "stdout",
          "text": [
            "enter first number9\n",
            "enter the second number8\n",
            "difference is 1\n"
          ]
        }
      ]
    },
    {
      "cell_type": "code",
      "source": [
        "num1=int(input(\"enter first number\"))\n",
        "num2=int(input(\"enter the second number\"))\n",
        "prd=num1*num2\n",
        "print(\"product is\",prd)"
      ],
      "metadata": {
        "colab": {
          "base_uri": "https://localhost:8080/"
        },
        "id": "pVlhkeihXbR_",
        "outputId": "8bb08355-8b46-4cc5-c84f-b4f8064b626e"
      },
      "execution_count": null,
      "outputs": [
        {
          "output_type": "stream",
          "name": "stdout",
          "text": [
            "enter first number2\n",
            "enter the second number7\n",
            "product is 14\n"
          ]
        }
      ]
    },
    {
      "cell_type": "code",
      "source": [
        "num1=int(input(\"enter first number\"))\n",
        "num2=int(input(\"enter the second number\"))\n",
        "qcn=num1/num2\n",
        "print(\"qoutient is\",qcn)"
      ],
      "metadata": {
        "colab": {
          "base_uri": "https://localhost:8080/"
        },
        "id": "NUI8nlFAX1pl",
        "outputId": "cce342b0-9727-4656-c28d-08dd45a62306"
      },
      "execution_count": null,
      "outputs": [
        {
          "output_type": "stream",
          "name": "stdout",
          "text": [
            "enter first number10\n",
            "enter the second number2\n",
            "qusient is 5.0\n"
          ]
        }
      ]
    },
    {
      "cell_type": "code",
      "source": [
        "# modulus operator\n",
        "num1=int(input(\"enter first number\"))\n",
        "num2=int(input(\"enter the second number\"))\n",
        "remder=num1%num2\n",
        "print(\"reminder is\",remder)"
      ],
      "metadata": {
        "colab": {
          "base_uri": "https://localhost:8080/"
        },
        "id": "yRXc1YDBYX9Q",
        "outputId": "ce240a1c-6b9b-474b-bfa0-6c90fbab8c3e"
      },
      "execution_count": null,
      "outputs": [
        {
          "output_type": "stream",
          "name": "stdout",
          "text": [
            "enter first number25\n",
            "enter the second number4\n",
            "reminder is 1\n"
          ]
        }
      ]
    },
    {
      "cell_type": "code",
      "source": [
        "num1=int(input(\"enter first number\"))\n",
        "num2=int(input(\"enter the second number\"))\n",
        "res=num1**num2\n",
        "print(\"result is\",res)"
      ],
      "metadata": {
        "colab": {
          "base_uri": "https://localhost:8080/"
        },
        "id": "brgOUEjbY1BX",
        "outputId": "a3750bb7-ab45-4995-9d5f-d727981369ff"
      },
      "execution_count": null,
      "outputs": [
        {
          "output_type": "stream",
          "name": "stdout",
          "text": [
            "enter first number2\n",
            "enter the second number2\n",
            "result is 4\n",
            "enter first number2\n",
            "enter the second number3\n",
            "result is 8\n"
          ]
        }
      ]
    },
    {
      "cell_type": "code",
      "source": [
        "num1=int(input(\"enter first number\"))\n",
        "num2=int(input(\"enter the second number\"))\n",
        "divi=num1//num2\n",
        "print(\"result is\",divi)"
      ],
      "metadata": {
        "colab": {
          "base_uri": "https://localhost:8080/"
        },
        "id": "fQ54qMNXuFXE",
        "outputId": "d1e9c712-b897-4959-875f-63a6ec4a0780"
      },
      "execution_count": null,
      "outputs": [
        {
          "output_type": "stream",
          "name": "stdout",
          "text": [
            "enter first number25\n",
            "enter the second number4\n",
            "result is 6\n"
          ]
        }
      ]
    },
    {
      "cell_type": "code",
      "source": [
        "# relational operators\n",
        "5>4"
      ],
      "metadata": {
        "colab": {
          "base_uri": "https://localhost:8080/"
        },
        "id": "uqVqT3NywMyU",
        "outputId": "2b8eaeed-72b8-4f16-9ce6-4454d2f17718"
      },
      "execution_count": null,
      "outputs": [
        {
          "output_type": "execute_result",
          "data": {
            "text/plain": [
              "True"
            ]
          },
          "metadata": {},
          "execution_count": 2
        }
      ]
    },
    {
      "cell_type": "code",
      "source": [
        "4>5"
      ],
      "metadata": {
        "colab": {
          "base_uri": "https://localhost:8080/"
        },
        "id": "ITePxlp-wdhW",
        "outputId": "71f85bb0-201d-4558-e1b3-5ce5c17e786e"
      },
      "execution_count": null,
      "outputs": [
        {
          "output_type": "execute_result",
          "data": {
            "text/plain": [
              "False"
            ]
          },
          "metadata": {},
          "execution_count": 3
        }
      ]
    },
    {
      "cell_type": "code",
      "source": [
        "\n",
        "# write a program to find area of rectangle\n",
        "leng=int(input(\"enter the length\"))\n",
        "bred=int(input(\"enter the bredth\"))\n",
        "Area=leng*bred\n",
        "print(\"Area\",Area)"
      ],
      "metadata": {
        "colab": {
          "base_uri": "https://localhost:8080/"
        },
        "id": "1Q9eVhqDwlki",
        "outputId": "fdeb78e0-a2fe-416d-9ac0-3def2f217e9b"
      },
      "execution_count": null,
      "outputs": [
        {
          "output_type": "stream",
          "name": "stdout",
          "text": [
            "enter the length5\n",
            "enter the bredth4\n",
            "Area 20\n"
          ]
        }
      ]
    },
    {
      "cell_type": "code",
      "source": [
        "# write a  program to find area of a circle\n",
        "radious=int(input(\"enter the radious\"))\n",
        "area=3.14*radious**2\n",
        "print(\"area is \",area)"
      ],
      "metadata": {
        "colab": {
          "base_uri": "https://localhost:8080/"
        },
        "id": "ZUAGe8aryMIU",
        "outputId": "f7b5b6b6-54a2-4d02-e626-2a4cdc67cc48"
      },
      "execution_count": null,
      "outputs": [
        {
          "output_type": "stream",
          "name": "stdout",
          "text": [
            "enter the radious5\n",
            "area is  78.5\n"
          ]
        }
      ]
    },
    {
      "cell_type": "code",
      "source": [
        "import math\n",
        "print(math.pi)"
      ],
      "metadata": {
        "colab": {
          "base_uri": "https://localhost:8080/"
        },
        "id": "uuAUB6cHO_Kv",
        "outputId": "8200a346-20bd-4d60-9e8f-0425b065dae0"
      },
      "execution_count": null,
      "outputs": [
        {
          "output_type": "stream",
          "name": "stdout",
          "text": [
            "3.141592653589793\n"
          ]
        }
      ]
    },
    {
      "cell_type": "code",
      "source": [
        "radious=int(input(\"enter the radious\"))\n",
        "area=math.pi*radious**2\n",
        "print(\"area is \"+str(area)+  \"  cm.sq\")"
      ],
      "metadata": {
        "colab": {
          "base_uri": "https://localhost:8080/"
        },
        "id": "tQswX1sPOTnS",
        "outputId": "3796520e-e8d7-46a7-b809-14e2da2d390f"
      },
      "execution_count": null,
      "outputs": [
        {
          "output_type": "stream",
          "name": "stdout",
          "text": [
            "enter the radious2\n",
            "area is 12.566370614359172  cm.sq\n"
          ]
        }
      ]
    },
    {
      "cell_type": "code",
      "source": [
        "round(4.45)"
      ],
      "metadata": {
        "colab": {
          "base_uri": "https://localhost:8080/"
        },
        "id": "-VKc-yDjdVTT",
        "outputId": "799a356a-2626-49fa-a0be-b86c59624db0"
      },
      "execution_count": null,
      "outputs": [
        {
          "output_type": "execute_result",
          "data": {
            "text/plain": [
              "4"
            ]
          },
          "metadata": {},
          "execution_count": 10
        }
      ]
    },
    {
      "cell_type": "code",
      "source": [
        "math.ceil(3.001)"
      ],
      "metadata": {
        "colab": {
          "base_uri": "https://localhost:8080/"
        },
        "id": "ApkGgWNVfOd8",
        "outputId": "9587f009-f090-4371-ca1f-b2217d693aa5"
      },
      "execution_count": null,
      "outputs": [
        {
          "output_type": "execute_result",
          "data": {
            "text/plain": [
              "4"
            ]
          },
          "metadata": {},
          "execution_count": 12
        }
      ]
    },
    {
      "cell_type": "code",
      "source": [
        "math.floor(3.999)"
      ],
      "metadata": {
        "colab": {
          "base_uri": "https://localhost:8080/"
        },
        "id": "YILc5lpsgCgc",
        "outputId": "87f0e443-5a8a-4d89-fe9e-a94d4f7550e7"
      },
      "execution_count": null,
      "outputs": [
        {
          "output_type": "execute_result",
          "data": {
            "text/plain": [
              "3"
            ]
          },
          "metadata": {},
          "execution_count": 13
        }
      ]
    },
    {
      "cell_type": "code",
      "source": [
        "math.sqrt(144)"
      ],
      "metadata": {
        "colab": {
          "base_uri": "https://localhost:8080/"
        },
        "id": "mkirLQErgkb2",
        "outputId": "8ace092b-261c-469e-f915-1ea4a353877c"
      },
      "execution_count": null,
      "outputs": [
        {
          "output_type": "execute_result",
          "data": {
            "text/plain": [
              "12.0"
            ]
          },
          "metadata": {},
          "execution_count": 14
        }
      ]
    },
    {
      "cell_type": "code",
      "source": [
        "num1=10\n",
        "num2=20"
      ],
      "metadata": {
        "id": "TvMId2VEg0wP"
      },
      "execution_count": null,
      "outputs": []
    },
    {
      "cell_type": "code",
      "source": [
        "num1>num2\n"
      ],
      "metadata": {
        "colab": {
          "base_uri": "https://localhost:8080/"
        },
        "id": "lphbTdy9iJXV",
        "outputId": "2b64ded6-9d28-4d8d-b225-49bd308dfbaa"
      },
      "execution_count": null,
      "outputs": [
        {
          "output_type": "execute_result",
          "data": {
            "text/plain": [
              "False"
            ]
          },
          "metadata": {},
          "execution_count": 16
        }
      ]
    },
    {
      "cell_type": "code",
      "source": [
        "num1<num2"
      ],
      "metadata": {
        "colab": {
          "base_uri": "https://localhost:8080/"
        },
        "id": "N5pLf5cHiNQ5",
        "outputId": "8c0ae1b3-3b90-461c-b9c9-58a334b19268"
      },
      "execution_count": null,
      "outputs": [
        {
          "output_type": "execute_result",
          "data": {
            "text/plain": [
              "True"
            ]
          },
          "metadata": {},
          "execution_count": 17
        }
      ]
    },
    {
      "cell_type": "code",
      "source": [
        "num1=num2=20"
      ],
      "metadata": {
        "id": "Adyub7IfivI5"
      },
      "execution_count": null,
      "outputs": []
    },
    {
      "cell_type": "code",
      "source": [
        "print(num1,num2)"
      ],
      "metadata": {
        "colab": {
          "base_uri": "https://localhost:8080/"
        },
        "id": "bDxhlZgEi2NP",
        "outputId": "c93daa87-7dd8-40bf-a000-22652aa727b4"
      },
      "execution_count": null,
      "outputs": [
        {
          "output_type": "stream",
          "name": "stdout",
          "text": [
            "20 20\n"
          ]
        }
      ]
    },
    {
      "cell_type": "code",
      "source": [
        "num1==num2"
      ],
      "metadata": {
        "colab": {
          "base_uri": "https://localhost:8080/"
        },
        "id": "-VVFz3Uli6rD",
        "outputId": "9399958f-7d9e-4191-c960-a31a63f3b094"
      },
      "execution_count": null,
      "outputs": [
        {
          "output_type": "execute_result",
          "data": {
            "text/plain": [
              "True"
            ]
          },
          "metadata": {},
          "execution_count": 20
        }
      ]
    },
    {
      "cell_type": "code",
      "source": [
        "num1>=num2"
      ],
      "metadata": {
        "colab": {
          "base_uri": "https://localhost:8080/"
        },
        "id": "R6VDlrxjjOQy",
        "outputId": "cf49cfad-17e2-463b-a2ee-bf6035a0384f"
      },
      "execution_count": null,
      "outputs": [
        {
          "output_type": "execute_result",
          "data": {
            "text/plain": [
              "True"
            ]
          },
          "metadata": {},
          "execution_count": 21
        }
      ]
    },
    {
      "cell_type": "code",
      "source": [
        "name=\"Hari\"\n",
        "age=22"
      ],
      "metadata": {
        "id": "Qq83Gv6l3Ed3"
      },
      "execution_count": null,
      "outputs": []
    },
    {
      "cell_type": "code",
      "source": [
        "name==\"Hari\""
      ],
      "metadata": {
        "colab": {
          "base_uri": "https://localhost:8080/"
        },
        "id": "1tZ2I8Da7KaS",
        "outputId": "637b063d-92ca-40b3-d92a-995f1cdbf3bc"
      },
      "execution_count": null,
      "outputs": [
        {
          "output_type": "execute_result",
          "data": {
            "text/plain": [
              "True"
            ]
          },
          "metadata": {},
          "execution_count": 4
        }
      ]
    },
    {
      "cell_type": "code",
      "source": [
        "age==23"
      ],
      "metadata": {
        "colab": {
          "base_uri": "https://localhost:8080/"
        },
        "id": "NkJVmnbf7oHP",
        "outputId": "8ae8e1a6-4063-47e3-9ce8-eff0e27b6987"
      },
      "execution_count": null,
      "outputs": [
        {
          "output_type": "execute_result",
          "data": {
            "text/plain": [
              "False"
            ]
          },
          "metadata": {},
          "execution_count": 5
        }
      ]
    },
    {
      "cell_type": "code",
      "source": [
        "name==\"Hari\" and age==23"
      ],
      "metadata": {
        "colab": {
          "base_uri": "https://localhost:8080/"
        },
        "id": "f0VEeAe37uHh",
        "outputId": "fcd0eb16-db2e-4ba6-88b6-72ea004a1122"
      },
      "execution_count": null,
      "outputs": [
        {
          "output_type": "execute_result",
          "data": {
            "text/plain": [
              "False"
            ]
          },
          "metadata": {},
          "execution_count": 7
        }
      ]
    },
    {
      "cell_type": "code",
      "source": [
        "not name==\"Hari\"\n",
        "not name==\"hari\""
      ],
      "metadata": {
        "colab": {
          "base_uri": "https://localhost:8080/"
        },
        "id": "0iroslEF8vlB",
        "outputId": "123f8b3d-97bf-42ce-801c-f082bbd48743"
      },
      "execution_count": null,
      "outputs": [
        {
          "output_type": "execute_result",
          "data": {
            "text/plain": [
              "True"
            ]
          },
          "metadata": {},
          "execution_count": 10
        }
      ]
    },
    {
      "cell_type": "code",
      "source": [
        "name==\"hari\" or age==22"
      ],
      "metadata": {
        "colab": {
          "base_uri": "https://localhost:8080/"
        },
        "id": "t3ypqH2I88th",
        "outputId": "e2ed098e-e160-41d2-eb20-41dde5c8ed53"
      },
      "execution_count": null,
      "outputs": [
        {
          "output_type": "execute_result",
          "data": {
            "text/plain": [
              "True"
            ]
          },
          "metadata": {},
          "execution_count": 11
        }
      ]
    },
    {
      "cell_type": "code",
      "source": [
        "name==\"Hari\" or age==22"
      ],
      "metadata": {
        "colab": {
          "base_uri": "https://localhost:8080/"
        },
        "id": "oIu9-W4Z9NJ9",
        "outputId": "51ee2f3f-63d0-4389-c519-ee3027f44fe8"
      },
      "execution_count": null,
      "outputs": [
        {
          "output_type": "execute_result",
          "data": {
            "text/plain": [
              "True"
            ]
          },
          "metadata": {},
          "execution_count": 12
        }
      ]
    },
    {
      "cell_type": "code",
      "source": [
        "name==\"hari\" or age==23"
      ],
      "metadata": {
        "colab": {
          "base_uri": "https://localhost:8080/"
        },
        "id": "OwpoM0-F9Vb1",
        "outputId": "b6946441-0e8c-4847-b23c-0993de9411ae"
      },
      "execution_count": null,
      "outputs": [
        {
          "output_type": "execute_result",
          "data": {
            "text/plain": [
              "False"
            ]
          },
          "metadata": {},
          "execution_count": 13
        }
      ]
    },
    {
      "cell_type": "code",
      "source": [
        "#binary operator\n",
        "num1=8\n",
        "num2=7"
      ],
      "metadata": {
        "id": "t1y8Bbo59bce"
      },
      "execution_count": null,
      "outputs": []
    },
    {
      "cell_type": "code",
      "source": [
        "num1 & num2"
      ],
      "metadata": {
        "colab": {
          "base_uri": "https://localhost:8080/"
        },
        "id": "4reF6-3p_t5R",
        "outputId": "5e12de17-fb83-4748-daa8-d90d5cb9f355"
      },
      "execution_count": null,
      "outputs": [
        {
          "output_type": "execute_result",
          "data": {
            "text/plain": [
              "0"
            ]
          },
          "metadata": {},
          "execution_count": 15
        }
      ]
    },
    {
      "cell_type": "code",
      "source": [
        "num1 | num2"
      ],
      "metadata": {
        "colab": {
          "base_uri": "https://localhost:8080/"
        },
        "id": "iyhNZVPP_yNE",
        "outputId": "b81cbadf-752f-46d6-85b6-68697eac1727"
      },
      "execution_count": null,
      "outputs": [
        {
          "output_type": "execute_result",
          "data": {
            "text/plain": [
              "15"
            ]
          },
          "metadata": {},
          "execution_count": 18
        }
      ]
    },
    {
      "cell_type": "code",
      "source": [
        "~num1"
      ],
      "metadata": {
        "colab": {
          "base_uri": "https://localhost:8080/"
        },
        "id": "Ca-B5akFAaOM",
        "outputId": "82ceb685-bee3-4d9d-9e1d-bd785f4c7e3b"
      },
      "execution_count": null,
      "outputs": [
        {
          "output_type": "execute_result",
          "data": {
            "text/plain": [
              "-9"
            ]
          },
          "metadata": {},
          "execution_count": 19
        }
      ]
    },
    {
      "cell_type": "code",
      "source": [
        "num1>>1"
      ],
      "metadata": {
        "colab": {
          "base_uri": "https://localhost:8080/"
        },
        "id": "rdVgfbmYA6oD",
        "outputId": "9f646c89-c232-4b72-cb45-07ab8d5ebb4d"
      },
      "execution_count": null,
      "outputs": [
        {
          "output_type": "execute_result",
          "data": {
            "text/plain": [
              "4"
            ]
          },
          "metadata": {},
          "execution_count": 20
        }
      ]
    },
    {
      "cell_type": "code",
      "source": [
        "num1<<1"
      ],
      "metadata": {
        "colab": {
          "base_uri": "https://localhost:8080/"
        },
        "id": "14_Rxy2UA_1D",
        "outputId": "c0738743-3afe-4db2-e4ee-5f7f2a38427a"
      },
      "execution_count": null,
      "outputs": [
        {
          "output_type": "execute_result",
          "data": {
            "text/plain": [
              "16"
            ]
          },
          "metadata": {},
          "execution_count": 21
        }
      ]
    },
    {
      "cell_type": "code",
      "source": [
        "num1^num2"
      ],
      "metadata": {
        "colab": {
          "base_uri": "https://localhost:8080/"
        },
        "id": "PyHPfNAlBE-F",
        "outputId": "ad183af1-8f22-4050-a79e-a44f08493197"
      },
      "execution_count": null,
      "outputs": [
        {
          "output_type": "execute_result",
          "data": {
            "text/plain": [
              "15"
            ]
          },
          "metadata": {},
          "execution_count": 22
        }
      ]
    },
    {
      "cell_type": "code",
      "source": [
        "a=20\n"
      ],
      "metadata": {
        "id": "vRF1RgYnCB2B"
      },
      "execution_count": null,
      "outputs": []
    },
    {
      "cell_type": "code",
      "source": [
        "a+=5"
      ],
      "metadata": {
        "id": "JrZGrlsKCNqN"
      },
      "execution_count": null,
      "outputs": []
    },
    {
      "cell_type": "code",
      "source": [
        "a"
      ],
      "metadata": {
        "colab": {
          "base_uri": "https://localhost:8080/"
        },
        "id": "MYNV4PudCbB_",
        "outputId": "71822f88-d5de-435b-b6ac-247ce6f0aa88"
      },
      "execution_count": null,
      "outputs": [
        {
          "output_type": "execute_result",
          "data": {
            "text/plain": [
              "25"
            ]
          },
          "metadata": {},
          "execution_count": 28
        }
      ]
    },
    {
      "cell_type": "code",
      "source": [
        "a*=10"
      ],
      "metadata": {
        "id": "pgko6vVbCdrS"
      },
      "execution_count": null,
      "outputs": []
    },
    {
      "cell_type": "code",
      "source": [
        "a"
      ],
      "metadata": {
        "id": "9Lz2TUHNCpGF",
        "outputId": "0bb1f261-5307-45a2-acb5-37035bd86e4d",
        "colab": {
          "base_uri": "https://localhost:8080/"
        }
      },
      "execution_count": null,
      "outputs": [
        {
          "output_type": "execute_result",
          "data": {
            "text/plain": [
              "250"
            ]
          },
          "metadata": {},
          "execution_count": 30
        }
      ]
    },
    {
      "cell_type": "code",
      "source": [
        "\n",
        "list1=[1,2,3]"
      ],
      "metadata": {
        "id": "mcigu2ikf9XG"
      },
      "execution_count": null,
      "outputs": []
    },
    {
      "cell_type": "code",
      "source": [
        "type(list1)"
      ],
      "metadata": {
        "colab": {
          "base_uri": "https://localhost:8080/"
        },
        "id": "RapmPXdKk2Gf",
        "outputId": "e3b31dec-7f26-4810-9c37-0036706b7046"
      },
      "execution_count": null,
      "outputs": [
        {
          "output_type": "execute_result",
          "data": {
            "text/plain": [
              "list"
            ]
          },
          "metadata": {},
          "execution_count": 5
        }
      ]
    },
    {
      "cell_type": "code",
      "source": [
        "list2=[1,2,'cat','hourse',True]"
      ],
      "metadata": {
        "id": "ge0dHOklmrlD"
      },
      "execution_count": null,
      "outputs": []
    },
    {
      "cell_type": "code",
      "source": [
        "list3=[]"
      ],
      "metadata": {
        "id": "ldW_G2txnEbp"
      },
      "execution_count": null,
      "outputs": []
    },
    {
      "cell_type": "code",
      "source": [
        "len(list1)"
      ],
      "metadata": {
        "colab": {
          "base_uri": "https://localhost:8080/"
        },
        "id": "wpWkspMBnNte",
        "outputId": "b1339389-de50-43cd-97cf-e0a81e2d0609"
      },
      "execution_count": null,
      "outputs": [
        {
          "output_type": "execute_result",
          "data": {
            "text/plain": [
              "3"
            ]
          },
          "metadata": {},
          "execution_count": 9
        }
      ]
    },
    {
      "cell_type": "code",
      "source": [
        "len(list2)"
      ],
      "metadata": {
        "colab": {
          "base_uri": "https://localhost:8080/"
        },
        "id": "ukG2WvWTnTzq",
        "outputId": "ec7b3243-d229-4a8b-bffa-cbc0524cb045"
      },
      "execution_count": null,
      "outputs": [
        {
          "output_type": "execute_result",
          "data": {
            "text/plain": [
              "5"
            ]
          },
          "metadata": {},
          "execution_count": 10
        }
      ]
    },
    {
      "cell_type": "code",
      "source": [
        "len(list3)"
      ],
      "metadata": {
        "colab": {
          "base_uri": "https://localhost:8080/"
        },
        "id": "tAbekRFvnY6g",
        "outputId": "79f3bd2a-9ea0-4da0-ee70-78674882d6ac"
      },
      "execution_count": null,
      "outputs": [
        {
          "output_type": "execute_result",
          "data": {
            "text/plain": [
              "0"
            ]
          },
          "metadata": {},
          "execution_count": 11
        }
      ]
    },
    {
      "cell_type": "code",
      "source": [
        "list2[0]"
      ],
      "metadata": {
        "colab": {
          "base_uri": "https://localhost:8080/"
        },
        "id": "r3PE_RtWnfR3",
        "outputId": "b10d52ae-6836-4807-f411-1fe447d4e55f"
      },
      "execution_count": null,
      "outputs": [
        {
          "output_type": "execute_result",
          "data": {
            "text/plain": [
              "1"
            ]
          },
          "metadata": {},
          "execution_count": 12
        }
      ]
    },
    {
      "cell_type": "code",
      "source": [
        "list2[1:4]"
      ],
      "metadata": {
        "colab": {
          "base_uri": "https://localhost:8080/"
        },
        "id": "PEMUgkyqnnrI",
        "outputId": "79c99769-83d0-424a-e816-81fc58725f5c"
      },
      "execution_count": null,
      "outputs": [
        {
          "output_type": "execute_result",
          "data": {
            "text/plain": [
              "[2, 'cat', 'hourse']"
            ]
          },
          "metadata": {},
          "execution_count": 14
        }
      ]
    },
    {
      "cell_type": "code",
      "source": [
        "list2[1:5:2]"
      ],
      "metadata": {
        "colab": {
          "base_uri": "https://localhost:8080/"
        },
        "id": "6qGFPFsan1DN",
        "outputId": "b466ec63-f03e-48a1-edc0-0eca4e83c0ac"
      },
      "execution_count": null,
      "outputs": [
        {
          "output_type": "execute_result",
          "data": {
            "text/plain": [
              "[2, 'hourse']"
            ]
          },
          "metadata": {},
          "execution_count": 15
        }
      ]
    },
    {
      "cell_type": "code",
      "source": [
        "list4=[45,56,23,10,42]\n",
        "list5=[34,78,67,21,23]\n",
        "list4+list5"
      ],
      "metadata": {
        "colab": {
          "base_uri": "https://localhost:8080/"
        },
        "id": "YFoWk-T-oO0t",
        "outputId": "c366cd86-75ac-4224-f6f2-b208c42c570e"
      },
      "execution_count": null,
      "outputs": [
        {
          "output_type": "execute_result",
          "data": {
            "text/plain": [
              "[45, 56, 23, 10, 42, 34, 78, 67, 21, 23]"
            ]
          },
          "metadata": {},
          "execution_count": 16
        }
      ]
    },
    {
      "cell_type": "code",
      "source": [
        "list6=list4"
      ],
      "metadata": {
        "id": "GQpvA8paot7m"
      },
      "execution_count": null,
      "outputs": []
    },
    {
      "cell_type": "code",
      "source": [
        "list6"
      ],
      "metadata": {
        "colab": {
          "base_uri": "https://localhost:8080/"
        },
        "id": "A6WzF-DNpH9a",
        "outputId": "dfd39795-e48a-42a0-eb08-e75e8262182e"
      },
      "execution_count": null,
      "outputs": [
        {
          "output_type": "execute_result",
          "data": {
            "text/plain": [
              "[45, 56, 23, 10, 42]"
            ]
          },
          "metadata": {},
          "execution_count": 18
        }
      ]
    },
    {
      "cell_type": "code",
      "source": [
        "list6=list4\n",
        "list6"
      ],
      "metadata": {
        "colab": {
          "base_uri": "https://localhost:8080/"
        },
        "id": "88R1jWa6pRi1",
        "outputId": "c4222945-be9f-44a0-ebc2-62af1eb39a8b"
      },
      "execution_count": null,
      "outputs": [
        {
          "output_type": "execute_result",
          "data": {
            "text/plain": [
              "[45, 56, 23, 10, 42, 100, 100, 100]"
            ]
          },
          "metadata": {},
          "execution_count": 25
        }
      ]
    },
    {
      "cell_type": "code",
      "source": [
        "list6=[45,56,23,10,42]"
      ],
      "metadata": {
        "id": "fTUa2pQdpnSi"
      },
      "execution_count": null,
      "outputs": []
    },
    {
      "cell_type": "code",
      "source": [
        "list6.append(100)\n",
        "list6"
      ],
      "metadata": {
        "colab": {
          "base_uri": "https://localhost:8080/"
        },
        "id": "Yq0SRF1LrPoB",
        "outputId": "f814534a-83eb-4fe7-b710-561c6c9ac7f5"
      },
      "execution_count": null,
      "outputs": [
        {
          "output_type": "execute_result",
          "data": {
            "text/plain": [
              "[45, 56, 23, 10, 42, 100]"
            ]
          },
          "metadata": {},
          "execution_count": 27
        }
      ]
    },
    {
      "cell_type": "code",
      "source": [
        "list7=list6.copy()"
      ],
      "metadata": {
        "id": "KGSmSP0_rXMV"
      },
      "execution_count": null,
      "outputs": []
    },
    {
      "cell_type": "code",
      "source": [
        "list7"
      ],
      "metadata": {
        "colab": {
          "base_uri": "https://localhost:8080/"
        },
        "id": "gASrYsdvrk-J",
        "outputId": "a93c96d0-355e-4584-f880-bcc779e19652"
      },
      "execution_count": null,
      "outputs": [
        {
          "output_type": "execute_result",
          "data": {
            "text/plain": [
              "[45, 56, 23, 10, 42, 100]"
            ]
          },
          "metadata": {},
          "execution_count": 29
        }
      ]
    },
    {
      "cell_type": "code",
      "source": [
        "list6.clear()"
      ],
      "metadata": {
        "id": "FH9_uOMlrnmy"
      },
      "execution_count": null,
      "outputs": []
    },
    {
      "cell_type": "code",
      "source": [
        "list6"
      ],
      "metadata": {
        "colab": {
          "base_uri": "https://localhost:8080/"
        },
        "id": "B5IjTTwGrwtX",
        "outputId": "96a9c967-fb98-4642-e806-6b24c3ca9532"
      },
      "execution_count": null,
      "outputs": [
        {
          "output_type": "execute_result",
          "data": {
            "text/plain": [
              "[]"
            ]
          },
          "metadata": {},
          "execution_count": 31
        }
      ]
    },
    {
      "cell_type": "code",
      "source": [
        "list7.count(45)"
      ],
      "metadata": {
        "colab": {
          "base_uri": "https://localhost:8080/",
          "height": 175
        },
        "id": "YrZ_VT1Yr19v",
        "outputId": "3ac7a873-e173-41eb-86c8-96be182f851c"
      },
      "execution_count": 5,
      "outputs": [
        {
          "output_type": "error",
          "ename": "NameError",
          "evalue": "ignored",
          "traceback": [
            "\u001b[0;31m---------------------------------------------------------------------------\u001b[0m",
            "\u001b[0;31mNameError\u001b[0m                                 Traceback (most recent call last)",
            "\u001b[0;32m<ipython-input-5-700c85792fe3>\u001b[0m in \u001b[0;36m<cell line: 1>\u001b[0;34m()\u001b[0m\n\u001b[0;32m----> 1\u001b[0;31m \u001b[0mlist7\u001b[0m\u001b[0;34m.\u001b[0m\u001b[0mcount\u001b[0m\u001b[0;34m(\u001b[0m\u001b[0;36m45\u001b[0m\u001b[0;34m)\u001b[0m\u001b[0;34m\u001b[0m\u001b[0;34m\u001b[0m\u001b[0m\n\u001b[0m",
            "\u001b[0;31mNameError\u001b[0m: name 'list7' is not defined"
          ]
        }
      ]
    },
    {
      "cell_type": "code",
      "source": [
        "list7"
      ],
      "metadata": {
        "colab": {
          "base_uri": "https://localhost:8080/",
          "height": 175
        },
        "id": "v5RT9eRqr-qr",
        "outputId": "f824d237-ac55-4b0d-e6a9-2e6776105fee"
      },
      "execution_count": 4,
      "outputs": [
        {
          "output_type": "error",
          "ename": "NameError",
          "evalue": "ignored",
          "traceback": [
            "\u001b[0;31m---------------------------------------------------------------------------\u001b[0m",
            "\u001b[0;31mNameError\u001b[0m                                 Traceback (most recent call last)",
            "\u001b[0;32m<ipython-input-4-30d4377cefdc>\u001b[0m in \u001b[0;36m<cell line: 1>\u001b[0;34m()\u001b[0m\n\u001b[0;32m----> 1\u001b[0;31m \u001b[0mlist7\u001b[0m\u001b[0;34m\u001b[0m\u001b[0;34m\u001b[0m\u001b[0m\n\u001b[0m",
            "\u001b[0;31mNameError\u001b[0m: name 'list7' is not defined"
          ]
        }
      ]
    },
    {
      "cell_type": "code",
      "source": [],
      "metadata": {
        "colab": {
          "base_uri": "https://localhost:8080/",
          "height": 175
        },
        "id": "Gkz2ZbHkHcZ7",
        "outputId": "e8446489-5944-4bb7-bde2-0ed221a7e930"
      },
      "execution_count": 3,
      "outputs": [
        {
          "output_type": "error",
          "ename": "NameError",
          "evalue": "ignored",
          "traceback": [
            "\u001b[0;31m---------------------------------------------------------------------------\u001b[0m",
            "\u001b[0;31mNameError\u001b[0m                                 Traceback (most recent call last)",
            "\u001b[0;32m<ipython-input-3-967b220cc5ae>\u001b[0m in \u001b[0;36m<cell line: 1>\u001b[0;34m()\u001b[0m\n\u001b[0;32m----> 1\u001b[0;31m \u001b[0mlist7\u001b[0m\u001b[0;34m.\u001b[0m\u001b[0mextend\u001b[0m\u001b[0;34m(\u001b[0m\u001b[0mlist5\u001b[0m\u001b[0;34m)\u001b[0m\u001b[0;34m\u001b[0m\u001b[0;34m\u001b[0m\u001b[0m\n\u001b[0m",
            "\u001b[0;31mNameError\u001b[0m: name 'list7' is not defined"
          ]
        }
      ]
    },
    {
      "cell_type": "code",
      "source": [
        "list7=[45,56,23,10,42,100,45,34,34,78,67,21,23]"
      ],
      "metadata": {
        "id": "rjS85aUmpZAL"
      },
      "execution_count": 7,
      "outputs": []
    },
    {
      "cell_type": "code",
      "source": [
        "list7.index(100)"
      ],
      "metadata": {
        "colab": {
          "base_uri": "https://localhost:8080/"
        },
        "id": "fHgQy6ljqsqb",
        "outputId": "8494956e-b439-48b0-a44a-608ffdcc9d03"
      },
      "execution_count": 9,
      "outputs": [
        {
          "output_type": "execute_result",
          "data": {
            "text/plain": [
              "5"
            ]
          },
          "metadata": {},
          "execution_count": 9
        }
      ]
    },
    {
      "cell_type": "code",
      "source": [
        "list7.insert(5,999)"
      ],
      "metadata": {
        "id": "MudBRbMeq-oX"
      },
      "execution_count": 10,
      "outputs": []
    },
    {
      "cell_type": "code",
      "source": [
        "list7"
      ],
      "metadata": {
        "colab": {
          "base_uri": "https://localhost:8080/"
        },
        "id": "a8TCFmDyrMsX",
        "outputId": "4193a0a5-39e5-4fb4-dbdf-c416dcaeca4e"
      },
      "execution_count": 11,
      "outputs": [
        {
          "output_type": "execute_result",
          "data": {
            "text/plain": [
              "[45, 56, 23, 10, 42, 999, 100, 45, 34, 34, 78, 67, 21, 23]"
            ]
          },
          "metadata": {},
          "execution_count": 11
        }
      ]
    },
    {
      "cell_type": "code",
      "source": [
        "list7.pop()"
      ],
      "metadata": {
        "colab": {
          "base_uri": "https://localhost:8080/"
        },
        "id": "2CNZqNT7rSQ3",
        "outputId": "b835b442-e7a2-4463-d77f-9affb11f9bf9"
      },
      "execution_count": 12,
      "outputs": [
        {
          "output_type": "execute_result",
          "data": {
            "text/plain": [
              "23"
            ]
          },
          "metadata": {},
          "execution_count": 12
        }
      ]
    },
    {
      "cell_type": "code",
      "source": [
        "list7"
      ],
      "metadata": {
        "colab": {
          "base_uri": "https://localhost:8080/"
        },
        "id": "24tngXy_rbTM",
        "outputId": "454b3c5d-78ba-4a95-8ab1-5e7ea65ae3a0"
      },
      "execution_count": 13,
      "outputs": [
        {
          "output_type": "execute_result",
          "data": {
            "text/plain": [
              "[45, 56, 23, 10, 42, 999, 100, 45, 34, 34, 78, 67, 21]"
            ]
          },
          "metadata": {},
          "execution_count": 13
        }
      ]
    },
    {
      "cell_type": "code",
      "source": [
        "list7.remove(45)\n",
        "list7"
      ],
      "metadata": {
        "colab": {
          "base_uri": "https://localhost:8080/"
        },
        "id": "BzM1I637rf3v",
        "outputId": "dab8644a-bfc7-4569-cfb8-e75e5d7678be"
      },
      "execution_count": 15,
      "outputs": [
        {
          "output_type": "execute_result",
          "data": {
            "text/plain": [
              "[56, 23, 10, 42, 999, 100, 34, 34, 78, 67, 21]"
            ]
          },
          "metadata": {},
          "execution_count": 15
        }
      ]
    },
    {
      "cell_type": "code",
      "source": [
        "list7.reverse()"
      ],
      "metadata": {
        "id": "7sBvUwZmrrjK"
      },
      "execution_count": 20,
      "outputs": []
    },
    {
      "cell_type": "code",
      "source": [
        "list7"
      ],
      "metadata": {
        "colab": {
          "base_uri": "https://localhost:8080/"
        },
        "id": "ejssQO_7sQHy",
        "outputId": "3b199b38-7ee9-43e9-9bb4-c6075bf41125"
      },
      "execution_count": 21,
      "outputs": [
        {
          "output_type": "execute_result",
          "data": {
            "text/plain": [
              "[21, 67, 78, 34, 34, 100, 42, 10, 23, 56]"
            ]
          },
          "metadata": {},
          "execution_count": 21
        }
      ]
    },
    {
      "cell_type": "code",
      "source": [
        "list7.sort()"
      ],
      "metadata": {
        "id": "kJIRCYPnsUt8"
      },
      "execution_count": 22,
      "outputs": []
    },
    {
      "cell_type": "code",
      "source": [
        "list7"
      ],
      "metadata": {
        "colab": {
          "base_uri": "https://localhost:8080/"
        },
        "id": "rsFrZ0hRsZ8y",
        "outputId": "a0b33972-6417-4b8e-93e3-351b6ed92b7e"
      },
      "execution_count": 23,
      "outputs": [
        {
          "output_type": "execute_result",
          "data": {
            "text/plain": [
              "[10, 21, 23, 34, 34, 42, 56, 67, 78, 100]"
            ]
          },
          "metadata": {},
          "execution_count": 23
        }
      ]
    },
    {
      "cell_type": "code",
      "source": [
        "list7[0]"
      ],
      "metadata": {
        "colab": {
          "base_uri": "https://localhost:8080/"
        },
        "id": "KbfO3U3Ksc29",
        "outputId": "3a724581-9dad-4c09-8465-2bb6ec1a3a03"
      },
      "execution_count": 24,
      "outputs": [
        {
          "output_type": "execute_result",
          "data": {
            "text/plain": [
              "10"
            ]
          },
          "metadata": {},
          "execution_count": 24
        }
      ]
    },
    {
      "cell_type": "code",
      "source": [
        "list7[0]=888"
      ],
      "metadata": {
        "id": "BH8KI5bLsp0m"
      },
      "execution_count": 25,
      "outputs": []
    },
    {
      "cell_type": "code",
      "source": [
        "list7"
      ],
      "metadata": {
        "colab": {
          "base_uri": "https://localhost:8080/"
        },
        "id": "Qq0UiDY7su04",
        "outputId": "250cf82a-edf4-4b49-ddc1-1a6e29ed9431"
      },
      "execution_count": 26,
      "outputs": [
        {
          "output_type": "execute_result",
          "data": {
            "text/plain": [
              "[888, 21, 23, 34, 34, 42, 56, 67, 78, 100]"
            ]
          },
          "metadata": {},
          "execution_count": 26
        }
      ]
    },
    {
      "cell_type": "code",
      "source": [
        "a=(20,40,60,\"apple\",\"ball\")"
      ],
      "metadata": {
        "id": "aMsNncjPsyxC"
      },
      "execution_count": 34,
      "outputs": []
    },
    {
      "cell_type": "code",
      "source": [
        "print(a[0])"
      ],
      "metadata": {
        "colab": {
          "base_uri": "https://localhost:8080/"
        },
        "id": "6N3ihZu2tRHh",
        "outputId": "b2f4511c-da8a-467e-adf6-c739301dd7c4"
      },
      "execution_count": 35,
      "outputs": [
        {
          "output_type": "stream",
          "name": "stdout",
          "text": [
            "20\n"
          ]
        }
      ]
    },
    {
      "cell_type": "code",
      "source": [
        "a[2]"
      ],
      "metadata": {
        "colab": {
          "base_uri": "https://localhost:8080/"
        },
        "id": "4BGdOplltYUs",
        "outputId": "524856eb-2cd2-4416-ba32-1f0fb7458408"
      },
      "execution_count": 36,
      "outputs": [
        {
          "output_type": "execute_result",
          "data": {
            "text/plain": [
              "60"
            ]
          },
          "metadata": {},
          "execution_count": 36
        }
      ]
    },
    {
      "cell_type": "code",
      "source": [
        "print(a[1:3])"
      ],
      "metadata": {
        "colab": {
          "base_uri": "https://localhost:8080/"
        },
        "id": "EbkRQHchtbri",
        "outputId": "4496d66e-70d6-46dd-d334-e9738c18cdda"
      },
      "execution_count": 37,
      "outputs": [
        {
          "output_type": "stream",
          "name": "stdout",
          "text": [
            "(40, 60)\n"
          ]
        }
      ]
    },
    {
      "cell_type": "code",
      "source": [
        "b=(2,4)\n",
        "print(a+b)"
      ],
      "metadata": {
        "colab": {
          "base_uri": "https://localhost:8080/"
        },
        "id": "tPAV_fpbtoW2",
        "outputId": "b8ad62d4-01b8-4718-9d7e-c498d2b669bb"
      },
      "execution_count": 38,
      "outputs": [
        {
          "output_type": "stream",
          "name": "stdout",
          "text": [
            "(20, 40, 60, 'apple', 'ball', 2, 4)\n"
          ]
        }
      ]
    },
    {
      "cell_type": "code",
      "source": [
        "print(b*2)"
      ],
      "metadata": {
        "colab": {
          "base_uri": "https://localhost:8080/"
        },
        "id": "3OU5Dl3PtzlW",
        "outputId": "e1e76547-99c8-4420-d4fc-1b1ccd649355"
      },
      "execution_count": 42,
      "outputs": [
        {
          "output_type": "stream",
          "name": "stdout",
          "text": [
            "(2, 4, 2, 4)\n"
          ]
        }
      ]
    },
    {
      "cell_type": "code",
      "source": [
        "a=(2,3,4,5,6,7,8,9,10)"
      ],
      "metadata": {
        "id": "ZC7qdIckufeq"
      },
      "execution_count": 43,
      "outputs": []
    },
    {
      "cell_type": "code",
      "source": [
        "5 in a"
      ],
      "metadata": {
        "colab": {
          "base_uri": "https://localhost:8080/"
        },
        "id": "0b8FJ0MBupbp",
        "outputId": "edd611fe-3e34-4d9a-e6ab-bdf02f398dc9"
      },
      "execution_count": 44,
      "outputs": [
        {
          "output_type": "execute_result",
          "data": {
            "text/plain": [
              "True"
            ]
          },
          "metadata": {},
          "execution_count": 44
        }
      ]
    },
    {
      "cell_type": "code",
      "source": [
        "100 in a"
      ],
      "metadata": {
        "colab": {
          "base_uri": "https://localhost:8080/"
        },
        "id": "WYYx3f0WvXoN",
        "outputId": "27df1905-05a3-4c88-8544-2c19e57046b4"
      },
      "execution_count": 45,
      "outputs": [
        {
          "output_type": "execute_result",
          "data": {
            "text/plain": [
              "False"
            ]
          },
          "metadata": {},
          "execution_count": 45
        }
      ]
    },
    {
      "cell_type": "code",
      "source": [
        " 2 not in a"
      ],
      "metadata": {
        "colab": {
          "base_uri": "https://localhost:8080/"
        },
        "id": "jhoM-2QUusQY",
        "outputId": "b6965692-c7cd-4a6e-f169-c3938e36bc72"
      },
      "execution_count": 46,
      "outputs": [
        {
          "output_type": "execute_result",
          "data": {
            "text/plain": [
              "False"
            ]
          },
          "metadata": {},
          "execution_count": 46
        }
      ]
    },
    {
      "cell_type": "code",
      "source": [
        "a=(2,3,4,5,6,7,8,9,10)\n",
        "b=(2,3,4)\n",
        "a==b"
      ],
      "metadata": {
        "colab": {
          "base_uri": "https://localhost:8080/"
        },
        "id": "C2tY56qZvh4Y",
        "outputId": "c0c69ca6-0872-4a04-99f9-d597854c3902"
      },
      "execution_count": 47,
      "outputs": [
        {
          "output_type": "execute_result",
          "data": {
            "text/plain": [
              "False"
            ]
          },
          "metadata": {},
          "execution_count": 47
        }
      ]
    },
    {
      "cell_type": "code",
      "source": [
        "a!=b"
      ],
      "metadata": {
        "colab": {
          "base_uri": "https://localhost:8080/"
        },
        "id": "gxVtYjE6vuJN",
        "outputId": "cc63ce23-0f43-41d3-f23a-f7bcfa67476f"
      },
      "execution_count": 48,
      "outputs": [
        {
          "output_type": "execute_result",
          "data": {
            "text/plain": [
              "True"
            ]
          },
          "metadata": {},
          "execution_count": 48
        }
      ]
    },
    {
      "cell_type": "code",
      "source": [
        "t=()\n",
        "type(t)"
      ],
      "metadata": {
        "colab": {
          "base_uri": "https://localhost:8080/"
        },
        "id": "Gs1Imla_v2eC",
        "outputId": "a38ad105-2fe0-4414-c7fe-5f0f1bc3902e"
      },
      "execution_count": 49,
      "outputs": [
        {
          "output_type": "execute_result",
          "data": {
            "text/plain": [
              "tuple"
            ]
          },
          "metadata": {},
          "execution_count": 49
        }
      ]
    },
    {
      "cell_type": "code",
      "source": [
        "t1=(1,2,3)\n",
        "t1[2]"
      ],
      "metadata": {
        "colab": {
          "base_uri": "https://localhost:8080/"
        },
        "id": "fcdiUelWwAE6",
        "outputId": "ecb7f7f4-a39e-4c22-c86e-daf246b372ff"
      },
      "execution_count": 50,
      "outputs": [
        {
          "output_type": "execute_result",
          "data": {
            "text/plain": [
              "3"
            ]
          },
          "metadata": {},
          "execution_count": 50
        }
      ]
    },
    {
      "cell_type": "code",
      "source": [
        "t3=(1,2,5,7,[5,6,7],8,9)"
      ],
      "metadata": {
        "id": "O68lq7iUwSUG"
      },
      "execution_count": 51,
      "outputs": []
    },
    {
      "cell_type": "code",
      "source": [
        "len(t3)"
      ],
      "metadata": {
        "colab": {
          "base_uri": "https://localhost:8080/"
        },
        "id": "PW6ANglhwIME",
        "outputId": "ef7ab08b-082f-4f20-835c-a4e551c8a5df"
      },
      "execution_count": 52,
      "outputs": [
        {
          "output_type": "execute_result",
          "data": {
            "text/plain": [
              "7"
            ]
          },
          "metadata": {},
          "execution_count": 52
        }
      ]
    },
    {
      "cell_type": "code",
      "source": [
        "t3[4]"
      ],
      "metadata": {
        "colab": {
          "base_uri": "https://localhost:8080/"
        },
        "id": "k3-6eplQwg5R",
        "outputId": "7a35e005-6256-4ffc-e3a6-fa79e3ed0862"
      },
      "execution_count": 53,
      "outputs": [
        {
          "output_type": "execute_result",
          "data": {
            "text/plain": [
              "[5, 6, 7]"
            ]
          },
          "metadata": {},
          "execution_count": 53
        }
      ]
    },
    {
      "cell_type": "code",
      "source": [
        "t3[4][0]"
      ],
      "metadata": {
        "colab": {
          "base_uri": "https://localhost:8080/"
        },
        "id": "IDEjjHwEwnRc",
        "outputId": "a480a05a-c6fe-4ee4-ad71-28e2341e703f"
      },
      "execution_count": 54,
      "outputs": [
        {
          "output_type": "execute_result",
          "data": {
            "text/plain": [
              "5"
            ]
          },
          "metadata": {},
          "execution_count": 54
        }
      ]
    },
    {
      "cell_type": "code",
      "source": [
        "t3[4][1]=10"
      ],
      "metadata": {
        "id": "UZbcxQ6ewtHL"
      },
      "execution_count": 59,
      "outputs": []
    },
    {
      "cell_type": "code",
      "source": [
        "t3"
      ],
      "metadata": {
        "id": "t4ubhtOp16im",
        "outputId": "49277a14-8d86-4a71-afa1-9121e2e39b14",
        "colab": {
          "base_uri": "https://localhost:8080/"
        }
      },
      "execution_count": 60,
      "outputs": [
        {
          "output_type": "execute_result",
          "data": {
            "text/plain": [
              "(1, 2, 5, 7, [10, 10, 7], 8, 9)"
            ]
          },
          "metadata": {},
          "execution_count": 60
        }
      ]
    },
    {
      "cell_type": "code",
      "source": [
        "t3.count(5)"
      ],
      "metadata": {
        "id": "oMxq2B5d19IY",
        "outputId": "4bd7b5a6-f219-4f2a-84af-872e7e43fd95",
        "colab": {
          "base_uri": "https://localhost:8080/"
        }
      },
      "execution_count": 61,
      "outputs": [
        {
          "output_type": "execute_result",
          "data": {
            "text/plain": [
              "1"
            ]
          },
          "metadata": {},
          "execution_count": 61
        }
      ]
    },
    {
      "cell_type": "code",
      "source": [
        "t3.index(5)"
      ],
      "metadata": {
        "id": "YddeYIoe2HLj",
        "outputId": "8e478d61-a270-4eef-90c1-9c11b86b325c",
        "colab": {
          "base_uri": "https://localhost:8080/"
        }
      },
      "execution_count": 62,
      "outputs": [
        {
          "output_type": "execute_result",
          "data": {
            "text/plain": [
              "2"
            ]
          },
          "metadata": {},
          "execution_count": 62
        }
      ]
    },
    {
      "cell_type": "code",
      "source": [],
      "metadata": {
        "id": "R6nm1byz2NIt"
      },
      "execution_count": null,
      "outputs": []
    },
    {
      "cell_type": "markdown",
      "source": [
        "Dictionary"
      ],
      "metadata": {
        "id": "9VfTKBg92QC6"
      }
    },
    {
      "cell_type": "code",
      "source": [
        "d={'deepa':50,'hari':67,'laya':34}"
      ],
      "metadata": {
        "id": "tFdwsMi32T-F"
      },
      "execution_count": 65,
      "outputs": []
    },
    {
      "cell_type": "code",
      "source": [
        "d['deepa']"
      ],
      "metadata": {
        "id": "75ZYR5nx5t3x",
        "outputId": "dba9037a-11f9-4702-f3ca-740db87c7f7c",
        "colab": {
          "base_uri": "https://localhost:8080/"
        }
      },
      "execution_count": 66,
      "outputs": [
        {
          "output_type": "execute_result",
          "data": {
            "text/plain": [
              "50"
            ]
          },
          "metadata": {},
          "execution_count": 66
        }
      ]
    },
    {
      "cell_type": "code",
      "source": [
        "d1={'deepa':[34,56,78],'hari':[22,56,77],'laya':[45,88,78]}"
      ],
      "metadata": {
        "id": "AoU1jqn15yeQ"
      },
      "execution_count": 68,
      "outputs": []
    },
    {
      "cell_type": "code",
      "source": [
        "d1['hari']"
      ],
      "metadata": {
        "id": "4229triC6MYp",
        "outputId": "e484b067-1127-4d4d-d9c5-9571f26f0387",
        "colab": {
          "base_uri": "https://localhost:8080/"
        }
      },
      "execution_count": 69,
      "outputs": [
        {
          "output_type": "execute_result",
          "data": {
            "text/plain": [
              "[22, 56, 77]"
            ]
          },
          "metadata": {},
          "execution_count": 69
        }
      ]
    },
    {
      "cell_type": "code",
      "source": [
        "d1['hari'][2]"
      ],
      "metadata": {
        "id": "UiyNe9z_6Quw",
        "outputId": "6be9eca2-1797-490f-a30a-dcebd85e0102",
        "colab": {
          "base_uri": "https://localhost:8080/"
        }
      },
      "execution_count": 70,
      "outputs": [
        {
          "output_type": "execute_result",
          "data": {
            "text/plain": [
              "77"
            ]
          },
          "metadata": {},
          "execution_count": 70
        }
      ]
    },
    {
      "cell_type": "code",
      "source": [
        "d1['hari'][2]=100"
      ],
      "metadata": {
        "id": "ZsFxGKiE6XQa"
      },
      "execution_count": 72,
      "outputs": []
    },
    {
      "cell_type": "code",
      "source": [
        "d1"
      ],
      "metadata": {
        "id": "1wQ0i2uy6qcX",
        "outputId": "f4863c37-bf7f-4ccd-f740-4fae8899836a",
        "colab": {
          "base_uri": "https://localhost:8080/"
        }
      },
      "execution_count": 73,
      "outputs": [
        {
          "output_type": "execute_result",
          "data": {
            "text/plain": [
              "{'deepa': [34, 56, 78], 'hari': [22, 56, 100], 'laya': [45, 88, 78]}"
            ]
          },
          "metadata": {},
          "execution_count": 73
        }
      ]
    },
    {
      "cell_type": "code",
      "source": [
        "d2={1:2,3:4}"
      ],
      "metadata": {
        "id": "pvdLd_486yXJ"
      },
      "execution_count": 74,
      "outputs": []
    },
    {
      "cell_type": "code",
      "source": [
        "d2[3]"
      ],
      "metadata": {
        "id": "oZNU8KOj64aC",
        "outputId": "7d560932-e08b-4f3a-e27a-084bcb8bf898",
        "colab": {
          "base_uri": "https://localhost:8080/"
        }
      },
      "execution_count": 75,
      "outputs": [
        {
          "output_type": "execute_result",
          "data": {
            "text/plain": [
              "4"
            ]
          },
          "metadata": {},
          "execution_count": 75
        }
      ]
    },
    {
      "cell_type": "code",
      "source": [
        "d3={'name':'deepa','age':45,'jobe':'teacher'}"
      ],
      "metadata": {
        "id": "fq3oDmv867mf"
      },
      "execution_count": 77,
      "outputs": []
    },
    {
      "cell_type": "code",
      "source": [
        "d3['age']"
      ],
      "metadata": {
        "id": "ymy9qkrC7UOz",
        "outputId": "915f87ab-8112-4bdc-bbf6-151d4e913aa0",
        "colab": {
          "base_uri": "https://localhost:8080/"
        }
      },
      "execution_count": 78,
      "outputs": [
        {
          "output_type": "execute_result",
          "data": {
            "text/plain": [
              "45"
            ]
          },
          "metadata": {},
          "execution_count": 78
        }
      ]
    },
    {
      "cell_type": "code",
      "source": [
        "d2.keys()"
      ],
      "metadata": {
        "id": "IiFEAhqR7aia",
        "outputId": "d17f768a-d6dc-4ad1-e06e-37b5f0a940e2",
        "colab": {
          "base_uri": "https://localhost:8080/"
        }
      },
      "execution_count": 79,
      "outputs": [
        {
          "output_type": "execute_result",
          "data": {
            "text/plain": [
              "dict_keys([1, 3])"
            ]
          },
          "metadata": {},
          "execution_count": 79
        }
      ]
    },
    {
      "cell_type": "code",
      "source": [
        "d1.keys()"
      ],
      "metadata": {
        "id": "NtweBwIX7jEW",
        "outputId": "e1a92f7f-4278-4a1b-de8f-29afcac22705",
        "colab": {
          "base_uri": "https://localhost:8080/"
        }
      },
      "execution_count": 80,
      "outputs": [
        {
          "output_type": "execute_result",
          "data": {
            "text/plain": [
              "dict_keys(['deepa', 'hari', 'laya'])"
            ]
          },
          "metadata": {},
          "execution_count": 80
        }
      ]
    },
    {
      "cell_type": "code",
      "source": [
        "d1.items()"
      ],
      "metadata": {
        "id": "HgQs-Z5q7myn",
        "outputId": "18355834-5eb9-4127-c067-c296b381867b",
        "colab": {
          "base_uri": "https://localhost:8080/"
        }
      },
      "execution_count": 81,
      "outputs": [
        {
          "output_type": "execute_result",
          "data": {
            "text/plain": [
              "dict_items([('deepa', [34, 56, 78]), ('hari', [22, 56, 100]), ('laya', [45, 88, 78])])"
            ]
          },
          "metadata": {},
          "execution_count": 81
        }
      ]
    },
    {
      "cell_type": "code",
      "source": [
        "d1.pop('deepa')"
      ],
      "metadata": {
        "id": "_BNZ5Wlv7v0l",
        "outputId": "7b424966-0e17-48e5-bbcc-9ce786a2eccb",
        "colab": {
          "base_uri": "https://localhost:8080/"
        }
      },
      "execution_count": 83,
      "outputs": [
        {
          "output_type": "execute_result",
          "data": {
            "text/plain": [
              "[34, 56, 78]"
            ]
          },
          "metadata": {},
          "execution_count": 83
        }
      ]
    },
    {
      "cell_type": "code",
      "source": [
        "d1"
      ],
      "metadata": {
        "id": "8tCh9rg779vK",
        "outputId": "bd391116-d06b-4a8e-f443-c3916c5d27bf",
        "colab": {
          "base_uri": "https://localhost:8080/"
        }
      },
      "execution_count": 84,
      "outputs": [
        {
          "output_type": "execute_result",
          "data": {
            "text/plain": [
              "{'hari': [22, 56, 100], 'laya': [45, 88, 78]}"
            ]
          },
          "metadata": {},
          "execution_count": 84
        }
      ]
    },
    {
      "cell_type": "code",
      "source": [
        "d2.popitem()"
      ],
      "metadata": {
        "id": "vJfQYqGo8CDS",
        "outputId": "ee00d0d4-6b69-4fe8-96ec-ec9928b05950",
        "colab": {
          "base_uri": "https://localhost:8080/"
        }
      },
      "execution_count": 85,
      "outputs": [
        {
          "output_type": "execute_result",
          "data": {
            "text/plain": [
              "(3, 4)"
            ]
          },
          "metadata": {},
          "execution_count": 85
        }
      ]
    },
    {
      "cell_type": "code",
      "source": [
        "d2"
      ],
      "metadata": {
        "id": "X6zgQDiR8ZHb",
        "outputId": "e1cb2195-8126-4195-852e-04440c1afacc",
        "colab": {
          "base_uri": "https://localhost:8080/"
        }
      },
      "execution_count": 86,
      "outputs": [
        {
          "output_type": "execute_result",
          "data": {
            "text/plain": [
              "{1: 2}"
            ]
          },
          "metadata": {},
          "execution_count": 86
        }
      ]
    },
    {
      "cell_type": "code",
      "source": [
        "d1.popitem()"
      ],
      "metadata": {
        "id": "PZd_AYb38bZH",
        "outputId": "88ea0d62-c8ca-4104-bf86-f295f4caa49d",
        "colab": {
          "base_uri": "https://localhost:8080/"
        }
      },
      "execution_count": 87,
      "outputs": [
        {
          "output_type": "execute_result",
          "data": {
            "text/plain": [
              "('laya', [45, 88, 78])"
            ]
          },
          "metadata": {},
          "execution_count": 87
        }
      ]
    },
    {
      "cell_type": "code",
      "source": [
        "d1.popitem()"
      ],
      "metadata": {
        "id": "WtXqV0cH8lIl",
        "outputId": "521e51e7-c7c8-424f-8779-0429a25d0719",
        "colab": {
          "base_uri": "https://localhost:8080/"
        }
      },
      "execution_count": 88,
      "outputs": [
        {
          "output_type": "execute_result",
          "data": {
            "text/plain": [
              "('hari', [22, 56, 100])"
            ]
          },
          "metadata": {},
          "execution_count": 88
        }
      ]
    },
    {
      "cell_type": "code",
      "source": [
        "d4={101:[1,2,3],'abcd':[5,6,7],56.7:[8,9,10]}"
      ],
      "metadata": {
        "id": "iETYRfrT8psZ"
      },
      "execution_count": 89,
      "outputs": []
    },
    {
      "cell_type": "code",
      "source": [
        "d4.keys()"
      ],
      "metadata": {
        "id": "_zpkcvff8-t2",
        "outputId": "c4ce2d88-9ff6-40a9-da46-a531901ad3de",
        "colab": {
          "base_uri": "https://localhost:8080/"
        }
      },
      "execution_count": 90,
      "outputs": [
        {
          "output_type": "execute_result",
          "data": {
            "text/plain": [
              "dict_keys([101, 'abcd', 56.7])"
            ]
          },
          "metadata": {},
          "execution_count": 90
        }
      ]
    },
    {
      "cell_type": "code",
      "source": [
        "d4['harish']=[22,33,44]"
      ],
      "metadata": {
        "id": "tYNUl2KJ9Cfp"
      },
      "execution_count": 91,
      "outputs": []
    },
    {
      "cell_type": "code",
      "source": [
        "d4"
      ],
      "metadata": {
        "id": "MPS_naMu9PiN",
        "outputId": "8884c9a3-9f1d-40b3-c6e2-0e5267e9aed2",
        "colab": {
          "base_uri": "https://localhost:8080/"
        }
      },
      "execution_count": 92,
      "outputs": [
        {
          "output_type": "execute_result",
          "data": {
            "text/plain": [
              "{101: [1, 2, 3], 'abcd': [5, 6, 7], 56.7: [8, 9, 10], 'harish': [22, 33, 44]}"
            ]
          },
          "metadata": {},
          "execution_count": 92
        }
      ]
    },
    {
      "cell_type": "code",
      "source": [
        "d4.update({104:['a','b','c']})"
      ],
      "metadata": {
        "id": "hA-h2rOl_dIV"
      },
      "execution_count": 96,
      "outputs": []
    },
    {
      "cell_type": "code",
      "source": [
        "d4"
      ],
      "metadata": {
        "id": "3Z1vYcFdBFAf",
        "outputId": "d2bacda0-41c9-4a73-87b8-cd86cb363312",
        "colab": {
          "base_uri": "https://localhost:8080/"
        }
      },
      "execution_count": 97,
      "outputs": [
        {
          "output_type": "execute_result",
          "data": {
            "text/plain": [
              "{101: ['a', 'b', 'c'],\n",
              " 'abcd': [5, 6, 7],\n",
              " 56.7: [8, 9, 10],\n",
              " 'harish': [22, 33, 44],\n",
              " 104: ['a', 'b', 'c']}"
            ]
          },
          "metadata": {},
          "execution_count": 97
        }
      ]
    },
    {
      "cell_type": "code",
      "source": [
        "d4.keys()"
      ],
      "metadata": {
        "id": "ldeZqd97BS0k",
        "outputId": "26d5a6fa-0bd3-45a2-a734-c5ba87116ba1",
        "colab": {
          "base_uri": "https://localhost:8080/"
        }
      },
      "execution_count": 98,
      "outputs": [
        {
          "output_type": "execute_result",
          "data": {
            "text/plain": [
              "dict_keys([101, 'abcd', 56.7, 'harish', 104])"
            ]
          },
          "metadata": {},
          "execution_count": 98
        }
      ]
    },
    {
      "cell_type": "code",
      "source": [
        "d4.values()"
      ],
      "metadata": {
        "id": "QbScz1wABfOk",
        "outputId": "1cc12161-13e8-44df-8e50-044cea769571",
        "colab": {
          "base_uri": "https://localhost:8080/"
        }
      },
      "execution_count": 99,
      "outputs": [
        {
          "output_type": "execute_result",
          "data": {
            "text/plain": [
              "dict_values([['a', 'b', 'c'], [5, 6, 7], [8, 9, 10], [22, 33, 44], ['a', 'b', 'c']])"
            ]
          },
          "metadata": {},
          "execution_count": 99
        }
      ]
    },
    {
      "cell_type": "code",
      "source": [
        "del d4[104]"
      ],
      "metadata": {
        "id": "LwxDGTHaB3jo"
      },
      "execution_count": 100,
      "outputs": []
    },
    {
      "cell_type": "code",
      "source": [
        "d4"
      ],
      "metadata": {
        "id": "C_PER9RnCBUc",
        "outputId": "d69d50b7-e435-462c-de09-6f3f670b483f",
        "colab": {
          "base_uri": "https://localhost:8080/"
        }
      },
      "execution_count": 101,
      "outputs": [
        {
          "output_type": "execute_result",
          "data": {
            "text/plain": [
              "{101: ['a', 'b', 'c'],\n",
              " 'abcd': [5, 6, 7],\n",
              " 56.7: [8, 9, 10],\n",
              " 'harish': [22, 33, 44]}"
            ]
          },
          "metadata": {},
          "execution_count": 101
        }
      ]
    },
    {
      "cell_type": "code",
      "source": [
        "s={1,2,'abc'}"
      ],
      "metadata": {
        "id": "5JIvCMLuCG0J"
      },
      "execution_count": 102,
      "outputs": []
    },
    {
      "cell_type": "code",
      "source": [
        "s"
      ],
      "metadata": {
        "id": "Ild0b4saD42w",
        "outputId": "d8e5c5f8-6368-4392-cfc8-954462b3e4a5",
        "colab": {
          "base_uri": "https://localhost:8080/"
        }
      },
      "execution_count": 103,
      "outputs": [
        {
          "output_type": "execute_result",
          "data": {
            "text/plain": [
              "{1, 2, 'abc'}"
            ]
          },
          "metadata": {},
          "execution_count": 103
        }
      ]
    },
    {
      "cell_type": "code",
      "source": [
        "type(s)"
      ],
      "metadata": {
        "id": "Ue69VkQFECT8",
        "outputId": "2e18fa4c-f8fd-4cb2-bb63-b6daf896a010",
        "colab": {
          "base_uri": "https://localhost:8080/"
        }
      },
      "execution_count": 104,
      "outputs": [
        {
          "output_type": "execute_result",
          "data": {
            "text/plain": [
              "set"
            ]
          },
          "metadata": {},
          "execution_count": 104
        }
      ]
    },
    {
      "cell_type": "code",
      "source": [
        "s1={1,2,3,3,4,2,2,5,6,2,2,3,3}"
      ],
      "metadata": {
        "id": "yNxcQSo_EHIk"
      },
      "execution_count": 106,
      "outputs": []
    },
    {
      "cell_type": "code",
      "source": [
        "s1"
      ],
      "metadata": {
        "id": "CflrlIyeETwy",
        "outputId": "3abc7b0f-a75e-4c1a-e302-cb9b5d6c231a",
        "colab": {
          "base_uri": "https://localhost:8080/"
        }
      },
      "execution_count": 107,
      "outputs": [
        {
          "output_type": "execute_result",
          "data": {
            "text/plain": [
              "{1, 2, 3, 4, 5, 6}"
            ]
          },
          "metadata": {},
          "execution_count": 107
        }
      ]
    },
    {
      "cell_type": "code",
      "source": [
        "s2={'cat','dog','hourse'}"
      ],
      "metadata": {
        "id": "6uf_iYDAV8wQ"
      },
      "execution_count": 10,
      "outputs": []
    },
    {
      "cell_type": "code",
      "source": [
        "len(s2)"
      ],
      "metadata": {
        "id": "FZHpoKaCX3ov",
        "outputId": "11f890e9-674d-41b1-ed48-6ea54ea398b2",
        "colab": {
          "base_uri": "https://localhost:8080/"
        }
      },
      "execution_count": 7,
      "outputs": [
        {
          "output_type": "execute_result",
          "data": {
            "text/plain": [
              "3"
            ]
          },
          "metadata": {},
          "execution_count": 7
        }
      ]
    },
    {
      "cell_type": "code",
      "source": [
        "s2.add(5)"
      ],
      "metadata": {
        "id": "_xaydXE_YEre",
        "outputId": "2902c520-6d23-4334-9cc0-a8e9927bc34a",
        "colab": {
          "base_uri": "https://localhost:8080/"
        }
      },
      "execution_count": 9,
      "outputs": [
        {
          "output_type": "execute_result",
          "data": {
            "text/plain": [
              "tuple"
            ]
          },
          "metadata": {},
          "execution_count": 9
        }
      ]
    },
    {
      "cell_type": "code",
      "source": [
        "s2={'cat','dog','hourse'}"
      ],
      "metadata": {
        "id": "f7pnDQqNc7a6"
      },
      "execution_count": null,
      "outputs": []
    }
  ]
}