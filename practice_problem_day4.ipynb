{
  "nbformat": 4,
  "nbformat_minor": 0,
  "metadata": {
    "colab": {
      "provenance": []
    },
    "kernelspec": {
      "name": "python3",
      "display_name": "Python 3"
    },
    "language_info": {
      "name": "python"
    }
  },
  "cells": [
    {
      "cell_type": "markdown",
      "source": [
        "1.write an interactive python program to implement following \"Guess Game\"\n",
        "i.Think of a number between 1 and 10 and store it in a variable called \"secret number \"\n",
        "ii.Ask the user to enter a number between 1 and 10 and store it in a variable called \"guess\"\n",
        "iii.We store control statements (if-else) to check if the guess is correct,higher or lower than the secret number.\n",
        "iv.display appropriatae message to the user based on their guess."
      ],
      "metadata": {
        "id": "nzZUu0i3j-nQ"
      }
    },
    {
      "cell_type": "code",
      "execution_count": 14,
      "metadata": {
        "colab": {
          "base_uri": "https://localhost:8080/"
        },
        "id": "g4j2CNO2i6Vf",
        "outputId": "306d8777-bef3-4f03-823e-6313950e363b"
      },
      "outputs": [
        {
          "output_type": "stream",
          "name": "stdout",
          "text": [
            "Enter a number between 1 and 10:7\n",
            "Too high! Try again\n"
          ]
        }
      ],
      "source": [
        "secret_number=4\n",
        "guess=int(input(\"Enter a number between 1 and 10:\"))\n",
        "if guess>4:\n",
        "     print(\"Too high! Try again\")\n",
        "elif guess<4:\n",
        "     print(\"Too low ! Try again\")\n",
        "else:\n",
        "  print(\"congratulation! you guessed correctly\")\n"
      ]
    },
    {
      "cell_type": "markdown",
      "source": [
        "2.write a program"
      ],
      "metadata": {
        "id": "SVGMdeT1nSCu"
      }
    },
    {
      "cell_type": "code",
      "source": [
        "len_of_photo=8\n",
        "shape_of_photo=[\"square\"]\n",
        "shape=input(\"enter the shape of photo\")\n",
        "width_of_photo=int(input(\"enter the width of photo:\"))\n",
        "heiht_of_photo=int(input(\"enter the height of photo:\"))\n",
        "if (width_of_photo or height_of_photo) <(len_of_photo):\n",
        "   print(\"UPLOAD ANOTHER\")\n",
        "elif shape in shape_of_photo:\n",
        "  print(\"ACCEPTED\")\n",
        "else:\n",
        "  print(\"crop it\")\n",
        "\n"
      ],
      "metadata": {
        "colab": {
          "base_uri": "https://localhost:8080/"
        },
        "id": "xcjC4SZhnQ8s",
        "outputId": "a4fca1a1-25b1-4c8d-b8ca-e121d40cac73"
      },
      "execution_count": 20,
      "outputs": [
        {
          "output_type": "stream",
          "name": "stdout",
          "text": [
            "enter the shape of photosquare\n",
            "enter the width of photo:9\n",
            "enter the height of photo:10\n",
            "ACCEPTED\n"
          ]
        }
      ]
    },
    {
      "cell_type": "markdown",
      "source": [],
      "metadata": {
        "id": "Qs8mz3p7j9uU"
      }
    }
  ]
}