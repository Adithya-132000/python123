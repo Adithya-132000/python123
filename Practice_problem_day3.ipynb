{
  "cells": [
    {
      "cell_type": "markdown",
      "metadata": {
        "id": "JCnY3p2bXCKE"
      },
      "source": [
        "1."
      ]
    },
    {
      "cell_type": "code",
      "execution_count": null,
      "metadata": {
        "colab": {
          "base_uri": "https://localhost:8080/"
        },
        "id": "-ow25S5rPKSI",
        "outputId": "ebe74cb2-35cc-43f1-f7df-df831d2ad8d7"
      },
      "outputs": [
        {
          "name": "stdout",
          "output_type": "stream",
          "text": [
            "enter the score:95\n",
            "[88, 89, 90, 93, 95, 90]\n"
          ]
        }
      ],
      "source": [
        "scors_of_sprts_day=[88,89,90,93,95,90]\n",
        "score=int(input(\"enter the score:\"))\n",
        "if score in scors_of_sprts_day:\n",
        "  print(scors_of_sprts_day)\n",
        "else:\n",
        "  print(\"not got runner up\")\n",
        "\n",
        "\n"
      ]
    },
    {
      "cell_type": "markdown",
      "metadata": {
        "id": "dTrpMBU0W_hv"
      },
      "source": [
        "2.A dictionary is given D{'john':[25,32,43],'peter':[87,55,96],'Ram':[58,55,43],'meena':[63,79,85]} get  a name  from user if the name in the dictionary change values corresponding to that user to [88,77,99] and print the dictionary else print\"name not found."
      ]
    },
    {
      "cell_type": "code",
      "execution_count": null,
      "metadata": {
        "colab": {
          "background_save": true
        },
        "id": "yp1JLo_QYj2K",
        "outputId": "a6a084bc-fa89-4eb8-94f3-43c0960ba5ea"
      },
      "outputs": [
        {
          "name": "stdout",
          "output_type": "stream",
          "text": [
            "{'john': [25, 32, 43], 'peter': [87, 55, 96], 'Ram': [58, 55, 43], 'meena': [63, 79, 85], 'usr_input': [88, 77, 99]}\n"
          ]
        }
      ],
      "source": [
        "d1={'john':[25,32,43],'peter':[87,55,96],'Ram':[58,55,43],'meena':[63,79,85]}\n",
        "usr_input=input(\"enter the name\")\n",
        "stng=[88,77,96]\n",
        "if usr_input in d1:\n",
        "   d1.update({'usr_input':[88,77,99]})\n",
        "   print(d1)\n",
        "else:\n",
        "  print(\"name not found\")"
      ]
    },
    {
      "cell_type": "markdown",
      "metadata": {
        "id": "JvG1che4XAIL"
      },
      "source": []
    }
  ],
  "metadata": {
    "colab": {
      "provenance": []
    },
    "kernelspec": {
      "display_name": "Python 3",
      "name": "python3"
    },
    "language_info": {
      "name": "python"
    }
  },
  "nbformat": 4,
  "nbformat_minor": 0
}