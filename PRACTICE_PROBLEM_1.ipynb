{
  "nbformat": 4,
  "nbformat_minor": 0,
  "metadata": {
    "colab": {
      "provenance": []
    },
    "kernelspec": {
      "name": "python3",
      "display_name": "Python 3"
    },
    "language_info": {
      "name": "python"
    }
  },
  "cells": [
    {
      "cell_type": "code",
      "execution_count": null,
      "metadata": {
        "id": "_osnCXOrjG7H"
      },
      "outputs": [],
      "source": []
    },
    {
      "cell_type": "markdown",
      "source": [
        "1.Given the string \"Hello world\",extract and print the substring \"Hello\""
      ],
      "metadata": {
        "id": "9_cJTfpZjLwR"
      }
    },
    {
      "cell_type": "code",
      "source": [
        "strg=\"Hello world\"\n",
        "print(strg[0:5])"
      ],
      "metadata": {
        "colab": {
          "base_uri": "https://localhost:8080/"
        },
        "id": "irmO7LugjiAh",
        "outputId": "c2d57d3c-1c9d-4b80-e783-9b3c7cbf846e"
      },
      "execution_count": null,
      "outputs": [
        {
          "output_type": "stream",
          "name": "stdout",
          "text": [
            "Hello\n"
          ]
        }
      ]
    },
    {
      "cell_type": "code",
      "source": [],
      "metadata": {
        "id": "FqZMaF63kjyF"
      },
      "execution_count": null,
      "outputs": []
    },
    {
      "cell_type": "markdown",
      "source": [
        "2. Given the string \"python is fun \", extract and print the substring \"is\""
      ],
      "metadata": {
        "id": "d6yVROVfkq9e"
      }
    },
    {
      "cell_type": "code",
      "source": [
        "strg=\"python is fun\"\n",
        "print(strg[7:9])"
      ],
      "metadata": {
        "colab": {
          "base_uri": "https://localhost:8080/"
        },
        "id": "CMK12ZD3k5jY",
        "outputId": "cd8bfd61-1879-47cf-8bf4-619ea1e604bf"
      },
      "execution_count": null,
      "outputs": [
        {
          "output_type": "stream",
          "name": "stdout",
          "text": [
            "is\n"
          ]
        }
      ]
    },
    {
      "cell_type": "markdown",
      "source": [
        "3.Given the string \"programming\"extract and print the substring \"gram\" using slicing imsides."
      ],
      "metadata": {
        "id": "VA-kD6Kyl5H6"
      }
    },
    {
      "cell_type": "code",
      "source": [
        "strg=\"programming\"\n",
        "print(strg[3:7])"
      ],
      "metadata": {
        "colab": {
          "base_uri": "https://localhost:8080/"
        },
        "id": "iINhByLZmRg_",
        "outputId": "866a5ae0-9004-4177-e21e-0e6fc58a0b29"
      },
      "execution_count": null,
      "outputs": [
        {
          "output_type": "stream",
          "name": "stdout",
          "text": [
            "gram\n"
          ]
        }
      ]
    },
    {
      "cell_type": "markdown",
      "source": [
        "4.Given the string \"abcdefgh\" use slicing to print only the characters at even insides"
      ],
      "metadata": {
        "id": "bfGbDOZFmnfN"
      }
    },
    {
      "cell_type": "code",
      "source": [
        "stg=\"abcdefgh\"\n",
        "print(stg[0:7:2])"
      ],
      "metadata": {
        "colab": {
          "base_uri": "https://localhost:8080/"
        },
        "id": "Ip5XQTiBmmUk",
        "outputId": "27d3226b-a8a8-403a-cd2c-d747d8676567"
      },
      "execution_count": null,
      "outputs": [
        {
          "output_type": "stream",
          "name": "stdout",
          "text": [
            "aceg\n"
          ]
        }
      ]
    },
    {
      "cell_type": "markdown",
      "source": [
        "5.Given the string \"abcdefg\",use negative indices to extract and print the substring \"efg\""
      ],
      "metadata": {
        "id": "irmSDsTAoYpe"
      }
    },
    {
      "cell_type": "code",
      "source": [
        "stg=\"abcdefg\"\n",
        "print(stg[4:7])"
      ],
      "metadata": {
        "colab": {
          "base_uri": "https://localhost:8080/"
        },
        "id": "mnpbFpLenOOJ",
        "outputId": "e1f5d4e7-aa29-4ae7-dacb-0b1454443340"
      },
      "execution_count": null,
      "outputs": [
        {
          "output_type": "stream",
          "name": "stdout",
          "text": [
            "efg\n"
          ]
        }
      ]
    },
    {
      "cell_type": "markdown",
      "source": [
        " 6.Given the string \"Data science\" use negative indices to extract and print last three characteristics."
      ],
      "metadata": {
        "id": "uZ03ubyWpOe5"
      }
    },
    {
      "cell_type": "code",
      "source": [
        "strg=\"Data science\"\n",
        "print(strg[-3:])"
      ],
      "metadata": {
        "colab": {
          "base_uri": "https://localhost:8080/"
        },
        "id": "xDWWzKgtSOF3",
        "outputId": "a4739ef7-273b-4a04-d770-8188b5d22e51"
      },
      "execution_count": 7,
      "outputs": [
        {
          "output_type": "stream",
          "name": "stdout",
          "text": [
            "nce\n"
          ]
        }
      ]
    },
    {
      "cell_type": "markdown",
      "source": [
        "7.Given string \"abcdefghij\" use slicing with a step to print every second character"
      ],
      "metadata": {
        "id": "tPaf6gnRuolg"
      }
    },
    {
      "cell_type": "code",
      "source": [
        "strng=\"abcdefghij\"\n",
        "print(strng[0:10:2])"
      ],
      "metadata": {
        "colab": {
          "base_uri": "https://localhost:8080/"
        },
        "id": "gRNQhk07qBOF",
        "outputId": "95cf0b71-fd94-4bb9-d266-68660a882d99"
      },
      "execution_count": 3,
      "outputs": [
        {
          "output_type": "stream",
          "name": "stdout",
          "text": [
            "acegi\n"
          ]
        }
      ]
    },
    {
      "cell_type": "markdown",
      "source": [
        "8.Given the string \"1234567890\" use slicing with a step to print the odd digits"
      ],
      "metadata": {
        "id": "w6ixKEKMzO7M"
      }
    },
    {
      "cell_type": "code",
      "source": [
        "strng=\"1234567890\"\n",
        "print(strng[0:9:2])"
      ],
      "metadata": {
        "colab": {
          "base_uri": "https://localhost:8080/"
        },
        "id": "gRG1KAhSz-6S",
        "outputId": "ea5e198c-9575-4a85-fbba-fdea310d6d62"
      },
      "execution_count": 4,
      "outputs": [
        {
          "output_type": "stream",
          "name": "stdout",
          "text": [
            "13579\n"
          ]
        }
      ]
    },
    {
      "cell_type": "markdown",
      "source": [
        "9.given the string \"Hello\", use slicing to print the string in reverse  order"
      ],
      "metadata": {
        "id": "ZexOtRVb0V8e"
      }
    },
    {
      "cell_type": "code",
      "source": [
        "strng=\"Hello\"\n",
        "print(strng[::-1])"
      ],
      "metadata": {
        "colab": {
          "base_uri": "https://localhost:8080/"
        },
        "id": "RigB-_YE0Uci",
        "outputId": "06c6a28c-e30f-4fd1-bf27-6481cab04852"
      },
      "execution_count": 13,
      "outputs": [
        {
          "output_type": "stream",
          "name": "stdout",
          "text": [
            "olleH\n"
          ]
        }
      ]
    },
    {
      "cell_type": "markdown",
      "source": [
        "10.Given the string \"abcdefghijk\"extract and print the substring \"acegik\" using slicing"
      ],
      "metadata": {
        "id": "tqlJetWmzO5L"
      }
    },
    {
      "cell_type": "code",
      "source": [
        "strng=\"abcdefghijk\"\n",
        "print(strng[0:11:2])"
      ],
      "metadata": {
        "colab": {
          "base_uri": "https://localhost:8080/"
        },
        "id": "KecyoWt422XD",
        "outputId": "49838d65-9c3a-4ea2-ac15-7adda61cb756"
      },
      "execution_count": 15,
      "outputs": [
        {
          "output_type": "stream",
          "name": "stdout",
          "text": [
            "acegik\n"
          ]
        }
      ]
    },
    {
      "cell_type": "markdown",
      "source": [
        "8."
      ],
      "metadata": {
        "id": "7Jn28z2IyiGR"
      }
    },
    {
      "cell_type": "markdown",
      "source": [],
      "metadata": {
        "id": "TNfVaVADuh2f"
      }
    }
  ]
}