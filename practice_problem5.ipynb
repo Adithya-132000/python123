{
  "nbformat": 4,
  "nbformat_minor": 0,
  "metadata": {
    "colab": {
      "provenance": []
    },
    "kernelspec": {
      "name": "python3",
      "display_name": "Python 3"
    },
    "language_info": {
      "name": "python"
    }
  },
  "cells": [
    {
      "cell_type": "markdown",
      "source": [
        "1.write a function that returns the middle value among three integers.write code to test function with different inputs."
      ],
      "metadata": {
        "id": "Ci9NknDsUQyE"
      }
    },
    {
      "cell_type": "code",
      "execution_count": 16,
      "metadata": {
        "colab": {
          "base_uri": "https://localhost:8080/",
          "height": 401
        },
        "id": "PSnLsqrYQTmF",
        "outputId": "e35514e5-c1cd-4a65-d9f8-06b873c7699f"
      },
      "outputs": [
        {
          "name": "stdout",
          "output_type": "stream",
          "text": [
            "Enter the value1:9\n",
            "enter the value2:7\n",
            "enter the value3:6\n"
          ]
        },
        {
          "output_type": "error",
          "ename": "TypeError",
          "evalue": "'function' object is not subscriptable",
          "traceback": [
            "\u001b[0;31m---------------------------------------------------------------------------\u001b[0m",
            "\u001b[0;31mTypeError\u001b[0m                                 Traceback (most recent call last)",
            "\u001b[0;32m<ipython-input-16-d04d91e6480a>\u001b[0m in \u001b[0;36m<cell line: 7>\u001b[0;34m()\u001b[0m\n\u001b[1;32m      5\u001b[0m \u001b[0mnum2\u001b[0m\u001b[0;34m=\u001b[0m\u001b[0mint\u001b[0m\u001b[0;34m(\u001b[0m\u001b[0minput\u001b[0m\u001b[0;34m(\u001b[0m\u001b[0;34m\"enter the value2:\"\u001b[0m\u001b[0;34m)\u001b[0m\u001b[0;34m)\u001b[0m\u001b[0;34m\u001b[0m\u001b[0;34m\u001b[0m\u001b[0m\n\u001b[1;32m      6\u001b[0m \u001b[0mnum3\u001b[0m\u001b[0;34m=\u001b[0m\u001b[0mint\u001b[0m\u001b[0;34m(\u001b[0m\u001b[0minput\u001b[0m\u001b[0;34m(\u001b[0m\u001b[0;34m\"enter the value3:\"\u001b[0m\u001b[0;34m)\u001b[0m\u001b[0;34m)\u001b[0m\u001b[0;34m\u001b[0m\u001b[0;34m\u001b[0m\u001b[0m\n\u001b[0;32m----> 7\u001b[0;31m \u001b[0mresult\u001b[0m\u001b[0;34m=\u001b[0m\u001b[0mmiddle\u001b[0m\u001b[0;34m(\u001b[0m\u001b[0mnum1\u001b[0m\u001b[0;34m,\u001b[0m\u001b[0mnum2\u001b[0m\u001b[0;34m,\u001b[0m\u001b[0mnum3\u001b[0m\u001b[0;34m)\u001b[0m\u001b[0;34m\u001b[0m\u001b[0;34m\u001b[0m\u001b[0m\n\u001b[0m\u001b[1;32m      8\u001b[0m \u001b[0mprint\u001b[0m\u001b[0;34m(\u001b[0m\u001b[0;34m\"middle value is\"\u001b[0m\u001b[0;34m,\u001b[0m\u001b[0mresult\u001b[0m\u001b[0;34m)\u001b[0m\u001b[0;34m\u001b[0m\u001b[0;34m\u001b[0m\u001b[0m\n",
            "\u001b[0;32m<ipython-input-16-d04d91e6480a>\u001b[0m in \u001b[0;36mmiddle\u001b[0;34m(x, y, z)\u001b[0m\n\u001b[1;32m      1\u001b[0m \u001b[0;32mdef\u001b[0m \u001b[0mmiddle\u001b[0m\u001b[0;34m(\u001b[0m\u001b[0mx\u001b[0m\u001b[0;34m,\u001b[0m \u001b[0my\u001b[0m\u001b[0;34m,\u001b[0m \u001b[0mz\u001b[0m\u001b[0;34m)\u001b[0m\u001b[0;34m:\u001b[0m\u001b[0;34m\u001b[0m\u001b[0;34m\u001b[0m\u001b[0m\n\u001b[0;32m----> 2\u001b[0;31m     \u001b[0mans\u001b[0m\u001b[0;34m=\u001b[0m\u001b[0mmiddle\u001b[0m\u001b[0;34m[\u001b[0m\u001b[0;36m1\u001b[0m\u001b[0;34m]\u001b[0m\u001b[0;34m\u001b[0m\u001b[0;34m\u001b[0m\u001b[0m\n\u001b[0m\u001b[1;32m      3\u001b[0m     \u001b[0;32mreturn\u001b[0m \u001b[0mans\u001b[0m\u001b[0;34m\u001b[0m\u001b[0;34m\u001b[0m\u001b[0m\n\u001b[1;32m      4\u001b[0m \u001b[0mnum1\u001b[0m\u001b[0;34m=\u001b[0m\u001b[0mint\u001b[0m\u001b[0;34m(\u001b[0m\u001b[0minput\u001b[0m\u001b[0;34m(\u001b[0m\u001b[0;34m\"Enter the value1:\"\u001b[0m\u001b[0;34m)\u001b[0m\u001b[0;34m)\u001b[0m\u001b[0;34m\u001b[0m\u001b[0;34m\u001b[0m\u001b[0m\n\u001b[1;32m      5\u001b[0m \u001b[0mnum2\u001b[0m\u001b[0;34m=\u001b[0m\u001b[0mint\u001b[0m\u001b[0;34m(\u001b[0m\u001b[0minput\u001b[0m\u001b[0;34m(\u001b[0m\u001b[0;34m\"enter the value2:\"\u001b[0m\u001b[0;34m)\u001b[0m\u001b[0;34m)\u001b[0m\u001b[0;34m\u001b[0m\u001b[0;34m\u001b[0m\u001b[0m\n",
            "\u001b[0;31mTypeError\u001b[0m: 'function' object is not subscriptable"
          ]
        }
      ],
      "source": [
        "     def middle(x, y, z):\n",
        "         ans=middle[1]\n",
        "         return ans\n",
        "num1=int(input(\"Enter the value1:\"))\n",
        "num2=int(input(\"enter the value2:\"))\n",
        "num3=int(input(\"enter the value3:\"))\n",
        "result=middle(num1,num2,num3)\n",
        "print(\"middle value is\",result)"
      ]
    },
    {
      "cell_type": "markdown",
      "source": [
        "Buid a calculator in python using function"
      ],
      "metadata": {
        "id": "rDCdZ_ezUOtG"
      }
    },
    {
      "cell_type": "code",
      "source": [
        "def multiplication(num1, num2):\n",
        "    return num1 * num2\n",
        "\n",
        "def addition(num1, num2):\n",
        "    return num1 + num2\n",
        "\n",
        "def subtraction(num1, num2):\n",
        "    return num1 - num2\n",
        "\n",
        "def divide(num1, num2):\n",
        "    return num1 / num2\n",
        "\n",
        "value_1 = int(input(\"Enter 1st number: \"))\n",
        "value_2 = int(input(\"Enter 2nd number: \"))\n",
        "\n",
        "print(\"Select operation 1-Division, 2-Multiplication, 3-Addition, 4-Subtraction\")\n",
        "operation = int(input(\"Choose operation 1/2/3/4: \"))\n",
        "\n",
        "if operation == 1:\n",
        "    print(value_1, \"/\", value_2, \"=\", divide(value_1, value_2))\n",
        "\n",
        "elif operation == 2:\n",
        "   print(value_1, \"*\", value_2, \"=\", multiplication(value_1, value_2))\n",
        "\n",
        "elif operation == 3:\n",
        "   print(value_1, \"+\", value_2, \"=\", addition(value_1, value_2))\n",
        "elif operation == 4:\n",
        "   print(value_1, \"-\", value_2, \"=\", subtraction(value_1, value_2))\n",
        "else:\n",
        "   print(\"Enter correct operation\")"
      ],
      "metadata": {
        "colab": {
          "base_uri": "https://localhost:8080/"
        },
        "id": "wNy8GxMdZy5M",
        "outputId": "c5ca0724-0876-41d8-b28c-3a3cd0f70866"
      },
      "execution_count": 17,
      "outputs": [
        {
          "output_type": "stream",
          "name": "stdout",
          "text": [
            "Enter 1st number: 5\n",
            "Enter 2nd number: 5\n",
            "Select operation 1-Division, 2-Multiplication, 3-Addition, 4-Subtraction\n",
            "Choose operation 1/2/3/4: 2\n",
            "5 * 5 = 25\n"
          ]
        }
      ]
    },
    {
      "cell_type": "markdown",
      "source": [
        "3.write a function that takes the lengths of the two shorter sides of a right triangle as its parameters. Return the hypotenuse of the triangle,computed using pythagorean theorem as the function's result."
      ],
      "metadata": {
        "id": "3S3WYEaOUPpz"
      }
    },
    {
      "cell_type": "code",
      "source": [
        "import math\n",
        "def shorter_side(side1,side2):\n",
        "    hyptnous=math.sqrt((side1*2)+(side2*2))\n",
        "    return hyptnous\n",
        "num1=int(input(\"enter the adjcent side:\"))\n",
        "num2=int(input(\"enter the other side:\"))\n",
        "result=shorter_side(num1,num2)\n",
        "print(\"hypotenous of right angle triangle:\",result)\n"
      ],
      "metadata": {
        "colab": {
          "base_uri": "https://localhost:8080/"
        },
        "id": "B5WvNWl7eU0b",
        "outputId": "5b7e52c2-1fc7-4262-f30a-4e1b9c242086"
      },
      "execution_count": 21,
      "outputs": [
        {
          "output_type": "stream",
          "name": "stdout",
          "text": [
            "enter the adjcent side:2\n",
            "enter the other side:4\n",
            "hypotenous of right angle triangle: 3.4641016151377544\n"
          ]
        }
      ]
    },
    {
      "cell_type": "markdown",
      "source": [
        "4.The rectangle problem"
      ],
      "metadata": {
        "id": "L0DyKT72iJpA"
      }
    },
    {
      "cell_type": "code",
      "source": [
        "def rectangle_class(L,W):\n",
        "    print(\"lenth:\",length\\n \"width:\",width)\n",
        "    Area=L*W\n",
        "    print(\"The area of rectangle:\"Area)\n",
        "    perimeter=2*(L+W)\n",
        "length=int(input(\"enter the length:\"))\n",
        "width=int(input(\"enter the width:\"))\n",
        "rectanle_ar_pe=rectangle_class(lenth,width)\n",
        "print(\"area_peri_of_rect:\",rectangle_ar_pe)"
      ],
      "metadata": {
        "id": "_hSndbHXuYbw"
      },
      "execution_count": null,
      "outputs": []
    },
    {
      "cell_type": "markdown",
      "source": [
        "5.bank account problem"
      ],
      "metadata": {
        "id": "Prsq3vgHur3a"
      }
    },
    {
      "cell_type": "code",
      "source": [
        "def bank_deposite(acc_num,name,balance):\n",
        "    name=[\"Adithya\",\"Athulya\",\"Baby\",\"Sivan\"]\n",
        "\n",
        "\n",
        "\n",
        ""
      ],
      "metadata": {
        "id": "if_eIkm0viki"
      },
      "execution_count": null,
      "outputs": []
    }
  ]
}